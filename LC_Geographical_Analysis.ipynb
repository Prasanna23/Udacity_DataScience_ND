{
 "cells": [
  {
   "cell_type": "code",
   "execution_count": 2,
   "metadata": {},
   "outputs": [],
   "source": [
    "import matplotlib.pyplot as plt\n",
    "import seaborn as sns\n",
    "import pandas as pd\n",
    "import plotly\n",
    "import plotly.express as px"
   ]
  },
  {
   "cell_type": "markdown",
   "metadata": {},
   "source": [
    "Taking a peek at the geographical variables in the dataset\n"
   ]
  },
  {
   "cell_type": "code",
   "execution_count": 4,
   "metadata": {},
   "outputs": [
    {
     "name": "stderr",
     "output_type": "stream",
     "text": [
      "/var/folders/8g/rj5x5zgx5_d0pj8pq4ch7vqh0000gn/T/ipykernel_31408/494099425.py:1: DtypeWarning: Columns (0,19,49,59,118,129,130,131,134,135,136,139,145,146,147) have mixed types. Specify dtype option on import or set low_memory=False.\n",
      "  data = pd.read_csv('~/Downloads/accepted_2007_to_2018Q4.csv.gz', compression='gzip')\n"
     ]
    },
    {
     "name": "stdout",
     "output_type": "stream",
     "text": [
      "                                                       id  member_id  \\\n",
      "0                                                68407277        NaN   \n",
      "1                                                68355089        NaN   \n",
      "2                                                68341763        NaN   \n",
      "3                                                66310712        NaN   \n",
      "4                                                68476807        NaN   \n",
      "...                                                   ...        ...   \n",
      "2260696                                          88985880        NaN   \n",
      "2260697                                          88224441        NaN   \n",
      "2260698                                          88215728        NaN   \n",
      "2260699  Total amount funded in policy code 1: 1465324575        NaN   \n",
      "2260700   Total amount funded in policy code 2: 521953170        NaN   \n",
      "\n",
      "         loan_amnt  funded_amnt  funded_amnt_inv        term  int_rate  \\\n",
      "0           3600.0       3600.0           3600.0   36 months     13.99   \n",
      "1          24700.0      24700.0          24700.0   36 months     11.99   \n",
      "2          20000.0      20000.0          20000.0   60 months     10.78   \n",
      "3          35000.0      35000.0          35000.0   60 months     14.85   \n",
      "4          10400.0      10400.0          10400.0   60 months     22.45   \n",
      "...            ...          ...              ...         ...       ...   \n",
      "2260696    40000.0      40000.0          40000.0   60 months     10.49   \n",
      "2260697    24000.0      24000.0          24000.0   60 months     14.49   \n",
      "2260698    14000.0      14000.0          14000.0   60 months     14.49   \n",
      "2260699        NaN          NaN              NaN         NaN       NaN   \n",
      "2260700        NaN          NaN              NaN         NaN       NaN   \n",
      "\n",
      "         installment grade sub_grade  ... hardship_payoff_balance_amount  \\\n",
      "0             123.03     C        C4  ...                            NaN   \n",
      "1             820.28     C        C1  ...                            NaN   \n",
      "2             432.66     B        B4  ...                            NaN   \n",
      "3             829.90     C        C5  ...                            NaN   \n",
      "4             289.91     F        F1  ...                            NaN   \n",
      "...              ...   ...       ...  ...                            ...   \n",
      "2260696       859.56     B        B3  ...                            NaN   \n",
      "2260697       564.56     C        C4  ...                            NaN   \n",
      "2260698       329.33     C        C4  ...                            NaN   \n",
      "2260699          NaN   NaN       NaN  ...                            NaN   \n",
      "2260700          NaN   NaN       NaN  ...                            NaN   \n",
      "\n",
      "        hardship_last_payment_amount disbursement_method  \\\n",
      "0                                NaN                Cash   \n",
      "1                                NaN                Cash   \n",
      "2                                NaN                Cash   \n",
      "3                                NaN                Cash   \n",
      "4                                NaN                Cash   \n",
      "...                              ...                 ...   \n",
      "2260696                          NaN                Cash   \n",
      "2260697                          NaN                Cash   \n",
      "2260698                          NaN                Cash   \n",
      "2260699                          NaN                 NaN   \n",
      "2260700                          NaN                 NaN   \n",
      "\n",
      "         debt_settlement_flag debt_settlement_flag_date settlement_status  \\\n",
      "0                           N                       NaN               NaN   \n",
      "1                           N                       NaN               NaN   \n",
      "2                           N                       NaN               NaN   \n",
      "3                           N                       NaN               NaN   \n",
      "4                           N                       NaN               NaN   \n",
      "...                       ...                       ...               ...   \n",
      "2260696                     N                       NaN               NaN   \n",
      "2260697                     Y                  Mar-2019            ACTIVE   \n",
      "2260698                     N                       NaN               NaN   \n",
      "2260699                   NaN                       NaN               NaN   \n",
      "2260700                   NaN                       NaN               NaN   \n",
      "\n",
      "        settlement_date settlement_amount settlement_percentage  \\\n",
      "0                   NaN               NaN                   NaN   \n",
      "1                   NaN               NaN                   NaN   \n",
      "2                   NaN               NaN                   NaN   \n",
      "3                   NaN               NaN                   NaN   \n",
      "4                   NaN               NaN                   NaN   \n",
      "...                 ...               ...                   ...   \n",
      "2260696             NaN               NaN                   NaN   \n",
      "2260697        Mar-2019           10000.0                 44.82   \n",
      "2260698             NaN               NaN                   NaN   \n",
      "2260699             NaN               NaN                   NaN   \n",
      "2260700             NaN               NaN                   NaN   \n",
      "\n",
      "        settlement_term  \n",
      "0                   NaN  \n",
      "1                   NaN  \n",
      "2                   NaN  \n",
      "3                   NaN  \n",
      "4                   NaN  \n",
      "...                 ...  \n",
      "2260696             NaN  \n",
      "2260697             1.0  \n",
      "2260698             NaN  \n",
      "2260699             NaN  \n",
      "2260700             NaN  \n",
      "\n",
      "[2260701 rows x 151 columns]\n"
     ]
    }
   ],
   "source": [
    "data = pd.read_csv('~/Downloads/accepted_2007_to_2018Q4.csv.gz', compression='gzip')\n",
    "print(data)"
   ]
  },
  {
   "cell_type": "code",
   "execution_count": 5,
   "metadata": {},
   "outputs": [
    {
     "data": {
      "text/plain": [
       "addr_state\n",
       "CA    314533\n",
       "NY    186389\n",
       "TX    186335\n",
       "FL    161991\n",
       "IL     91173\n",
       "NJ     83132\n",
       "PA     76939\n",
       "OH     75132\n",
       "GA     74196\n",
       "VA     62954\n",
       "NC     62730\n",
       "MI     58770\n",
       "MD     54008\n",
       "AZ     53777\n",
       "MA     51784\n",
       "CO     48183\n",
       "WA     47060\n",
       "MN     39517\n",
       "IN     37515\n",
       "MO     36084\n",
       "CT     35785\n",
       "TN     35483\n",
       "NV     32657\n",
       "WI     29877\n",
       "SC     28003\n",
       "AL     27284\n",
       "OR     26789\n",
       "LA     25759\n",
       "KY     21887\n",
       "OK     20691\n",
       "KS     19109\n",
       "AR     17074\n",
       "UT     14993\n",
       "MS     12639\n",
       "NM     11986\n",
       "NH     11142\n",
       "HI     10668\n",
       "RI     10005\n",
       "WV      8351\n",
       "NE      7819\n",
       "DE      6458\n",
       "MT      6299\n",
       "DC      5356\n",
       "AK      5231\n",
       "ME      4974\n",
       "VT      4937\n",
       "WY      4748\n",
       "SD      4549\n",
       "ID      4308\n",
       "ND      3591\n",
       "IA        14\n",
       "Name: count, dtype: int64"
      ]
     },
     "execution_count": 5,
     "metadata": {},
     "output_type": "execute_result"
    }
   ],
   "source": [
    "data['addr_state'].value_counts()"
   ]
  },
  {
   "cell_type": "code",
   "execution_count": 4,
   "metadata": {},
   "outputs": [
    {
     "name": "stdout",
     "output_type": "stream",
     "text": [
      "Dataset shape: (2260701, 151)\n",
      "\n",
      "First few rows:\n",
      "         id  member_id  loan_amnt  funded_amnt  funded_amnt_inv        term  \\\n",
      "0  68407277        NaN     3600.0       3600.0           3600.0   36 months   \n",
      "1  68355089        NaN    24700.0      24700.0          24700.0   36 months   \n",
      "2  68341763        NaN    20000.0      20000.0          20000.0   60 months   \n",
      "3  66310712        NaN    35000.0      35000.0          35000.0   60 months   \n",
      "4  68476807        NaN    10400.0      10400.0          10400.0   60 months   \n",
      "\n",
      "   int_rate  installment grade sub_grade  ... hardship_payoff_balance_amount  \\\n",
      "0     13.99       123.03     C        C4  ...                            NaN   \n",
      "1     11.99       820.28     C        C1  ...                            NaN   \n",
      "2     10.78       432.66     B        B4  ...                            NaN   \n",
      "3     14.85       829.90     C        C5  ...                            NaN   \n",
      "4     22.45       289.91     F        F1  ...                            NaN   \n",
      "\n",
      "  hardship_last_payment_amount disbursement_method  debt_settlement_flag  \\\n",
      "0                          NaN                Cash                     N   \n",
      "1                          NaN                Cash                     N   \n",
      "2                          NaN                Cash                     N   \n",
      "3                          NaN                Cash                     N   \n",
      "4                          NaN                Cash                     N   \n",
      "\n",
      "  debt_settlement_flag_date settlement_status settlement_date  \\\n",
      "0                       NaN               NaN             NaN   \n",
      "1                       NaN               NaN             NaN   \n",
      "2                       NaN               NaN             NaN   \n",
      "3                       NaN               NaN             NaN   \n",
      "4                       NaN               NaN             NaN   \n",
      "\n",
      "  settlement_amount settlement_percentage settlement_term  \n",
      "0               NaN                   NaN             NaN  \n",
      "1               NaN                   NaN             NaN  \n",
      "2               NaN                   NaN             NaN  \n",
      "3               NaN                   NaN             NaN  \n",
      "4               NaN                   NaN             NaN  \n",
      "\n",
      "[5 rows x 151 columns]\n",
      "\n",
      "Columns in dataset:\n",
      "['id', 'member_id', 'loan_amnt', 'funded_amnt', 'funded_amnt_inv', 'term', 'int_rate', 'installment', 'grade', 'sub_grade', 'emp_title', 'emp_length', 'home_ownership', 'annual_inc', 'verification_status', 'issue_d', 'loan_status', 'pymnt_plan', 'url', 'desc', 'purpose', 'title', 'zip_code', 'addr_state', 'dti', 'delinq_2yrs', 'earliest_cr_line', 'fico_range_low', 'fico_range_high', 'inq_last_6mths', 'mths_since_last_delinq', 'mths_since_last_record', 'open_acc', 'pub_rec', 'revol_bal', 'revol_util', 'total_acc', 'initial_list_status', 'out_prncp', 'out_prncp_inv', 'total_pymnt', 'total_pymnt_inv', 'total_rec_prncp', 'total_rec_int', 'total_rec_late_fee', 'recoveries', 'collection_recovery_fee', 'last_pymnt_d', 'last_pymnt_amnt', 'next_pymnt_d', 'last_credit_pull_d', 'last_fico_range_high', 'last_fico_range_low', 'collections_12_mths_ex_med', 'mths_since_last_major_derog', 'policy_code', 'application_type', 'annual_inc_joint', 'dti_joint', 'verification_status_joint', 'acc_now_delinq', 'tot_coll_amt', 'tot_cur_bal', 'open_acc_6m', 'open_act_il', 'open_il_12m', 'open_il_24m', 'mths_since_rcnt_il', 'total_bal_il', 'il_util', 'open_rv_12m', 'open_rv_24m', 'max_bal_bc', 'all_util', 'total_rev_hi_lim', 'inq_fi', 'total_cu_tl', 'inq_last_12m', 'acc_open_past_24mths', 'avg_cur_bal', 'bc_open_to_buy', 'bc_util', 'chargeoff_within_12_mths', 'delinq_amnt', 'mo_sin_old_il_acct', 'mo_sin_old_rev_tl_op', 'mo_sin_rcnt_rev_tl_op', 'mo_sin_rcnt_tl', 'mort_acc', 'mths_since_recent_bc', 'mths_since_recent_bc_dlq', 'mths_since_recent_inq', 'mths_since_recent_revol_delinq', 'num_accts_ever_120_pd', 'num_actv_bc_tl', 'num_actv_rev_tl', 'num_bc_sats', 'num_bc_tl', 'num_il_tl', 'num_op_rev_tl', 'num_rev_accts', 'num_rev_tl_bal_gt_0', 'num_sats', 'num_tl_120dpd_2m', 'num_tl_30dpd', 'num_tl_90g_dpd_24m', 'num_tl_op_past_12m', 'pct_tl_nvr_dlq', 'percent_bc_gt_75', 'pub_rec_bankruptcies', 'tax_liens', 'tot_hi_cred_lim', 'total_bal_ex_mort', 'total_bc_limit', 'total_il_high_credit_limit', 'revol_bal_joint', 'sec_app_fico_range_low', 'sec_app_fico_range_high', 'sec_app_earliest_cr_line', 'sec_app_inq_last_6mths', 'sec_app_mort_acc', 'sec_app_open_acc', 'sec_app_revol_util', 'sec_app_open_act_il', 'sec_app_num_rev_accts', 'sec_app_chargeoff_within_12_mths', 'sec_app_collections_12_mths_ex_med', 'sec_app_mths_since_last_major_derog', 'hardship_flag', 'hardship_type', 'hardship_reason', 'hardship_status', 'deferral_term', 'hardship_amount', 'hardship_start_date', 'hardship_end_date', 'payment_plan_start_date', 'hardship_length', 'hardship_dpd', 'hardship_loan_status', 'orig_projected_additional_accrued_interest', 'hardship_payoff_balance_amount', 'hardship_last_payment_amount', 'disbursement_method', 'debt_settlement_flag', 'debt_settlement_flag_date', 'settlement_status', 'settlement_date', 'settlement_amount', 'settlement_percentage', 'settlement_term']\n",
      "\n",
      "Dataset info:\n"
     ]
    },
    {
     "name": "stdout",
     "output_type": "stream",
     "text": [
      "<class 'pandas.core.frame.DataFrame'>\n",
      "RangeIndex: 2260701 entries, 0 to 2260700\n",
      "Columns: 151 entries, id to settlement_term\n",
      "dtypes: float64(113), object(38)\n",
      "memory usage: 2.5+ GB\n",
      "None\n"
     ]
    }
   ],
   "source": [
    "# Initial exploration\n",
    "print(\"Dataset shape:\", data.shape)\n",
    "\n",
    "# Check first few rows\n",
    "print(\"\\nFirst few rows:\")\n",
    "print(data.head())\n",
    "\n",
    "# Check columns\n",
    "print(\"\\nColumns in dataset:\")\n",
    "print(data.columns.tolist())\n",
    "\n",
    "# Basic info about data types and missing values\n",
    "print(\"\\nDataset info:\")\n",
    "print(data.info())"
   ]
  },
  {
   "cell_type": "markdown",
   "metadata": {},
   "source": [
    "There are 150+ columns in the input dataset. I am going to use only the columns that's of interest and relevant to the geographical/regional analysis. Those 16 coulmns are used to create geo_data dataframe. \n",
    "All 16 columns have NAs in it but only three columns description, employment length and employment title got a lot of NAs. \n",
    "I'm not planning to use those three columns in my analysis and that's the reason why I'm going to drop those columns from geo_data data frame.\n",
    "As other columns have only very few less than 40 out of 2M rows as NAs, I am going to drop those rows from the data frame. Dropping these won't make a big difference in the final analysis. "
   ]
  },
  {
   "cell_type": "code",
   "execution_count": 6,
   "metadata": {},
   "outputs": [],
   "source": [
    "geo_columns = ['loan_amnt','int_rate','acc_now_delinq','addr_state','application_type','desc','emp_length','emp_title','zip_code','home_ownership','last_fico_range_high','last_fico_range_low','issue_d','grade','sub_grade','loan_status']\n",
    "geo_data = data[geo_columns]"
   ]
  },
  {
   "cell_type": "code",
   "execution_count": 9,
   "metadata": {},
   "outputs": [
    {
     "name": "stdout",
     "output_type": "stream",
     "text": [
      "loan_amnt                    33\n",
      "int_rate                     33\n",
      "acc_now_delinq               62\n",
      "addr_state                   33\n",
      "application_type             33\n",
      "desc                    2134636\n",
      "emp_length               146940\n",
      "emp_title                167002\n",
      "zip_code                     34\n",
      "home_ownership               33\n",
      "last_fico_range_high         33\n",
      "last_fico_range_low          33\n",
      "issue_d                      33\n",
      "grade                        33\n",
      "sub_grade                    33\n",
      "loan_status                  33\n",
      "dtype: int64\n",
      "loan_amnt               True\n",
      "int_rate                True\n",
      "acc_now_delinq          True\n",
      "addr_state              True\n",
      "application_type        True\n",
      "desc                    True\n",
      "emp_length              True\n",
      "emp_title               True\n",
      "zip_code                True\n",
      "home_ownership          True\n",
      "last_fico_range_high    True\n",
      "last_fico_range_low     True\n",
      "issue_d                 True\n",
      "grade                   True\n",
      "sub_grade               True\n",
      "loan_status             True\n",
      "dtype: bool\n"
     ]
    }
   ],
   "source": [
    "columns_with_nas = geo_data.isna().any()\n",
    "count_of_nas = geo_data.isna().sum()\n",
    "print(count_of_nas)\n",
    "print(columns_with_nas)"
   ]
  },
  {
   "cell_type": "code",
   "execution_count": 10,
   "metadata": {},
   "outputs": [
    {
     "name": "stderr",
     "output_type": "stream",
     "text": [
      "/var/folders/8g/rj5x5zgx5_d0pj8pq4ch7vqh0000gn/T/ipykernel_31408/3563653301.py:3: SettingWithCopyWarning: \n",
      "A value is trying to be set on a copy of a slice from a DataFrame\n",
      "\n",
      "See the caveats in the documentation: https://pandas.pydata.org/pandas-docs/stable/user_guide/indexing.html#returning-a-view-versus-a-copy\n",
      "  geo_data.dropna(inplace=True)\n",
      "/var/folders/8g/rj5x5zgx5_d0pj8pq4ch7vqh0000gn/T/ipykernel_31408/3563653301.py:4: SettingWithCopyWarning: \n",
      "A value is trying to be set on a copy of a slice from a DataFrame.\n",
      "Try using .loc[row_indexer,col_indexer] = value instead\n",
      "\n",
      "See the caveats in the documentation: https://pandas.pydata.org/pandas-docs/stable/user_guide/indexing.html#returning-a-view-versus-a-copy\n",
      "  geo_data['is_delinquent'] = geo_data['loan_status'].isin(['Late (31-120 days)', 'Late (16-30 days)', 'Charged Off', 'Default'])\n"
     ]
    },
    {
     "name": "stdout",
     "output_type": "stream",
     "text": [
      "314533\n",
      "14\n",
      "<class 'pandas.core.series.Series'>\n",
      "Index: 51 entries, AK to WY\n",
      "Series name: is_delinquent\n",
      "Non-Null Count  Dtype  \n",
      "--------------  -----  \n",
      "51 non-null     float64\n",
      "dtypes: float64(1)\n",
      "memory usage: 2.9+ KB\n"
     ]
    },
    {
     "data": {
      "image/png": "[encoded data removed]",
      "text/plain": [
       "<Figure size 640x480 with 1 Axes>"
      ]
     },
     "metadata": {},
     "output_type": "display_data"
    }
   ],
   "source": [
    "geo_columns_new = ['loan_amnt','int_rate','acc_now_delinq','addr_state','application_type','zip_code','home_ownership','last_fico_range_high','last_fico_range_low','issue_d','grade','sub_grade','loan_status']\n",
    "geo_data = data[geo_columns_new]\n",
    "geo_data.dropna(inplace=True)\n",
    "geo_data['is_delinquent'] = geo_data['loan_status'].isin(['Late (31-120 days)', 'Late (16-30 days)', 'Charged Off', 'Default'])\n",
    "delinq_state_cnt = geo_data.groupby('addr_state')['is_delinquent'].count()\n",
    "delinq_state_rate = geo_data.groupby('addr_state')['is_delinquent'].mean()*100\n",
    "delinq_state_rate.plot(kind='bar',title='Delinquency rate variation by state')\n",
    "print(delinq_state_cnt.max())\n",
    "print(delinq_state_cnt.min())\n",
    "delinq_state_rate.info()"
   ]
  },
  {
   "cell_type": "code",
   "execution_count": 6,
   "metadata": {},
   "outputs": [
    {
     "data": {
      "text/html": [
       "<div>\n",
       "<style scoped>\n",
       "    .dataframe tbody tr th:only-of-type {\n",
       "        vertical-align: middle;\n",
       "    }\n",
       "\n",
       "    .dataframe tbody tr th {\n",
       "        vertical-align: top;\n",
       "    }\n",
       "\n",
       "    .dataframe thead th {\n",
       "        text-align: right;\n",
       "    }\n",
       "</style>\n",
       "<table border=\"1\" class=\"dataframe\">\n",
       "  <thead>\n",
       "    <tr style=\"text-align: right;\">\n",
       "      <th></th>\n",
       "      <th>addr_state</th>\n",
       "      <th>is_delinquent</th>\n",
       "      <th>loan_amnt</th>\n",
       "      <th>int_rate</th>\n",
       "    </tr>\n",
       "  </thead>\n",
       "  <tbody>\n",
       "    <tr>\n",
       "      <th>0</th>\n",
       "      <td>AK</td>\n",
       "      <td>13.171478</td>\n",
       "      <td>17285.394762</td>\n",
       "      <td>13.326289</td>\n",
       "    </tr>\n",
       "    <tr>\n",
       "      <th>1</th>\n",
       "      <td>AL</td>\n",
       "      <td>15.741827</td>\n",
       "      <td>14686.235523</td>\n",
       "      <td>13.567154</td>\n",
       "    </tr>\n",
       "    <tr>\n",
       "      <th>2</th>\n",
       "      <td>AR</td>\n",
       "      <td>15.444536</td>\n",
       "      <td>14094.558979</td>\n",
       "      <td>13.354703</td>\n",
       "    </tr>\n",
       "    <tr>\n",
       "      <th>3</th>\n",
       "      <td>AZ</td>\n",
       "      <td>13.012998</td>\n",
       "      <td>14522.307399</td>\n",
       "      <td>12.962906</td>\n",
       "    </tr>\n",
       "    <tr>\n",
       "      <th>4</th>\n",
       "      <td>CA</td>\n",
       "      <td>13.403999</td>\n",
       "      <td>15287.680784</td>\n",
       "      <td>12.976528</td>\n",
       "    </tr>\n",
       "  </tbody>\n",
       "</table>\n",
       "</div>"
      ],
      "text/plain": [
       "  addr_state  is_delinquent     loan_amnt   int_rate\n",
       "0         AK      13.171478  17285.394762  13.326289\n",
       "1         AL      15.741827  14686.235523  13.567154\n",
       "2         AR      15.444536  14094.558979  13.354703\n",
       "3         AZ      13.012998  14522.307399  12.962906\n",
       "4         CA      13.403999  15287.680784  12.976528"
      ]
     },
     "execution_count": 6,
     "metadata": {},
     "output_type": "execute_result"
    }
   ],
   "source": [
    "mean_cols = ['is_delinquent','loan_amnt','int_rate']\n",
    "geo_mean_df= geo_data.groupby('addr_state')[mean_cols].mean()\n",
    "geo_mean_df['is_delinquent'] = geo_mean_df['is_delinquent']*100\n",
    "geo_mean_df = geo_mean_df.reset_index()\n",
    "geo_mean_df.head()"
   ]
  },
  {
   "cell_type": "code",
   "execution_count": 7,
   "metadata": {},
   "outputs": [
    {
     "data": {
      "application/vnd.plotly.v1+json": {
       "config": {
        "plotlyServerURL": "https://plot.ly"
       },
       "data": [
        {
         "coloraxis": "coloraxis",
         "geo": "geo",
         "hovertemplate": "addr_state=%{location}<br>is_delinquent=%{z}<extra></extra>",
         "locationmode": "USA-states",
         "locations": [
          "AK",
          "AL",
          "AR",
          "AZ",
          "CA",
          "CO",
          "CT",
          "DC",
          "DE",
          "FL",
          "GA",
          "HI",
          "IA",
          "ID",
          "IL",
          "IN",
          "KS",
          "KY",
          "LA",
          "MA",
          "MD",
          "ME",
          "MI",
          "MN",
          "MO",
          "MS",
          "MT",
          "NC",
          "ND",
          "NE",
          "NH",
          "NJ",
          "NM",
          "NV",
          "NY",
          "OH",
          "OK",
          "OR",
          "PA",
          "RI",
          "SC",
          "SD",
          "TN",
          "TX",
          "UT",
          "VA",
          "VT",
          "WA",
          "WI",
          "WV",
          "WY"
         ],
         "name": "",
         "type": "choropleth",
         "z": [
          13.171477728923724,
          15.741826711625862,
          15.444535551130373,
          13.012998121873665,
          13.403998944466878,
          10.433140319199717,
          10.691630571468492,
          9.447348767737116,
          12.52709817280892,
          14.020532004864467,
          11.861825435333442,
          13.957630296212972,
          7.142857142857142,
          8.588672237697308,
          11.196297149375363,
          13.47194455551113,
          10.717462975561254,
          13.364097409421117,
          15.15586785201289,
          12.472964622277152,
          13.696119093467635,
          6.453558504221954,
          13.236345074017356,
          13.022243591365742,
          13.734619221815764,
          15.483819922462219,
          11.081123987934593,
          13.711142993782879,
          10.554163185742132,
          12.86609540862003,
          9.495602225812242,
          13.443679930712602,
          14.23327215084265,
          14.640046544385585,
          14.317905026584189,
          12.858702017782036,
          15.219177420134358,
          9.671880249356079,
          13.44311727472413,
          11.554222888555723,
          10.316751776595364,
          13.937129039349308,
          13.409238226756475,
          12.907397966028928,
          12.3991195891416,
          13.222352829049782,
          8.426169738707717,
          10.720356991075224,
          12.173243632225459,
          9.639564124057,
          11.183656276326873
         ]
        }
       ],
       "layout": {
        "coloraxis": {
         "colorbar": {
          "title": {
           "text": "is_delinquent"
          }
         },
         "colorscale": [
          [
           0,
           "#0d0887"
          ],
          [
           0.1111111111111111,
           "#46039f"
          ],
          [
           0.2222222222222222,
           "#7201a8"
          ],
          [
           0.3333333333333333,
           "#9c179e"
          ],
          [
           0.4444444444444444,
           "#bd3786"
          ],
          [
           0.5555555555555556,
           "#d8576b"
          ],
          [
           0.6666666666666666,
           "#ed7953"
          ],
          [
           0.7777777777777778,
           "#fb9f3a"
          ],
          [
           0.8888888888888888,
           "#fdca26"
          ],
          [
           1,
           "#f0f921"
          ]
         ]
        },
        "geo": {
         "center": {},
         "domain": {
          "x": [
           0,
           1
          ],
          "y": [
           0,
           1
          ]
         },
         "scope": "usa"
        },
        "legend": {
         "tracegroupgap": 0
        },
        "template": {
         "data": {
          "bar": [
           {
            "error_x": {
             "color": "#2a3f5f"
            },
            "error_y": {
             "color": "#2a3f5f"
            },
            "marker": {
             "line": {
              "color": "#E5ECF6",
              "width": 0.5
             },
             "pattern": {
              "fillmode": "overlay",
              "size": 10,
              "solidity": 0.2
             }
            },
            "type": "bar"
           }
          ],
          "barpolar": [
           {
            "marker": {
             "line": {
              "color": "#E5ECF6",
              "width": 0.5
             },
             "pattern": {
              "fillmode": "overlay",
              "size": 10,
              "solidity": 0.2
             }
            },
            "type": "barpolar"
           }
          ],
          "carpet": [
           {
            "aaxis": {
             "endlinecolor": "#2a3f5f",
             "gridcolor": "white",
             "linecolor": "white",
             "minorgridcolor": "white",
             "startlinecolor": "#2a3f5f"
            },
            "baxis": {
             "endlinecolor": "#2a3f5f",
             "gridcolor": "white",
             "linecolor": "white",
             "minorgridcolor": "white",
             "startlinecolor": "#2a3f5f"
            },
            "type": "carpet"
           }
          ],
          "choropleth": [
           {
            "colorbar": {
             "outlinewidth": 0,
             "ticks": ""
            },
            "type": "choropleth"
           }
          ],
          "contour": [
           {
            "colorbar": {
             "outlinewidth": 0,
             "ticks": ""
            },
            "colorscale": [
             [
              0,
              "#0d0887"
             ],
             [
              0.1111111111111111,
              "#46039f"
             ],
             [
              0.2222222222222222,
              "#7201a8"
             ],
             [
              0.3333333333333333,
              "#9c179e"
             ],
             [
              0.4444444444444444,
              "#bd3786"
             ],
             [
              0.5555555555555556,
              "#d8576b"
             ],
             [
              0.6666666666666666,
              "#ed7953"
             ],
             [
              0.7777777777777778,
              "#fb9f3a"
             ],
             [
              0.8888888888888888,
              "#fdca26"
             ],
             [
              1,
              "#f0f921"
             ]
            ],
            "type": "contour"
           }
          ],
          "contourcarpet": [
           {
            "colorbar": {
             "outlinewidth": 0,
             "ticks": ""
            },
            "type": "contourcarpet"
           }
          ],
          "heatmap": [
           {
            "colorbar": {
             "outlinewidth": 0,
             "ticks": ""
            },
            "colorscale": [
             [
              0,
              "#0d0887"
             ],
             [
              0.1111111111111111,
              "#46039f"
             ],
             [
              0.2222222222222222,
              "#7201a8"
             ],
             [
              0.3333333333333333,
              "#9c179e"
             ],
             [
              0.4444444444444444,
              "#bd3786"
             ],
             [
              0.5555555555555556,
              "#d8576b"
             ],
             [
              0.6666666666666666,
              "#ed7953"
             ],
             [
              0.7777777777777778,
              "#fb9f3a"
             ],
             [
              0.8888888888888888,
              "#fdca26"
             ],
             [
              1,
              "#f0f921"
             ]
            ],
            "type": "heatmap"
           }
          ],
          "heatmapgl": [
           {
            "colorbar": {
             "outlinewidth": 0,
             "ticks": ""
            },
            "colorscale": [
             [
              0,
              "#0d0887"
             ],
             [
              0.1111111111111111,
              "#46039f"
             ],
             [
              0.2222222222222222,
              "#7201a8"
             ],
             [
              0.3333333333333333,
              "#9c179e"
             ],
             [
              0.4444444444444444,
              "#bd3786"
             ],
             [
              0.5555555555555556,
              "#d8576b"
             ],
             [
              0.6666666666666666,
              "#ed7953"
             ],
             [
              0.7777777777777778,
              "#fb9f3a"
             ],
             [
              0.8888888888888888,
              "#fdca26"
             ],
             [
              1,
              "#f0f921"
             ]
            ],
            "type": "heatmapgl"
           }
          ],
          "histogram": [
           {
            "marker": {
             "pattern": {
              "fillmode": "overlay",
              "size": 10,
              "solidity": 0.2
             }
            },
            "type": "histogram"
           }
          ],
          "histogram2d": [
           {
            "colorbar": {
             "outlinewidth": 0,
             "ticks": ""
            },
            "colorscale": [
             [
              0,
              "#0d0887"
             ],
             [
              0.1111111111111111,
              "#46039f"
             ],
             [
              0.2222222222222222,
              "#7201a8"
             ],
             [
              0.3333333333333333,
              "#9c179e"
             ],
             [
              0.4444444444444444,
              "#bd3786"
             ],
             [
              0.5555555555555556,
              "#d8576b"
             ],
             [
              0.6666666666666666,
              "#ed7953"
             ],
             [
              0.7777777777777778,
              "#fb9f3a"
             ],
             [
              0.8888888888888888,
              "#fdca26"
             ],
             [
              1,
              "#f0f921"
             ]
            ],
            "type": "histogram2d"
           }
          ],
          "histogram2dcontour": [
           {
            "colorbar": {
             "outlinewidth": 0,
             "ticks": ""
            },
            "colorscale": [
             [
              0,
              "#0d0887"
             ],
             [
              0.1111111111111111,
              "#46039f"
             ],
             [
              0.2222222222222222,
              "#7201a8"
             ],
             [
              0.3333333333333333,
              "#9c179e"
             ],
             [
              0.4444444444444444,
              "#bd3786"
             ],
             [
              0.5555555555555556,
              "#d8576b"
             ],
             [
              0.6666666666666666,
              "#ed7953"
             ],
             [
              0.7777777777777778,
              "#fb9f3a"
             ],
             [
              0.8888888888888888,
              "#fdca26"
             ],
             [
              1,
              "#f0f921"
             ]
            ],
            "type": "histogram2dcontour"
           }
          ],
          "mesh3d": [
           {
            "colorbar": {
             "outlinewidth": 0,
             "ticks": ""
            },
            "type": "mesh3d"
           }
          ],
          "parcoords": [
           {
            "line": {
             "colorbar": {
              "outlinewidth": 0,
              "ticks": ""
             }
            },
            "type": "parcoords"
           }
          ],
          "pie": [
           {
            "automargin": true,
            "type": "pie"
           }
          ],
          "scatter": [
           {
            "fillpattern": {
             "fillmode": "overlay",
             "size": 10,
             "solidity": 0.2
            },
            "type": "scatter"
           }
          ],
          "scatter3d": [
           {
            "line": {
             "colorbar": {
              "outlinewidth": 0,
              "ticks": ""
             }
            },
            "marker": {
             "colorbar": {
              "outlinewidth": 0,
              "ticks": ""
             }
            },
            "type": "scatter3d"
           }
          ],
          "scattercarpet": [
           {
            "marker": {
             "colorbar": {
              "outlinewidth": 0,
              "ticks": ""
             }
            },
            "type": "scattercarpet"
           }
          ],
          "scattergeo": [
           {
            "marker": {
             "colorbar": {
              "outlinewidth": 0,
              "ticks": ""
             }
            },
            "type": "scattergeo"
           }
          ],
          "scattergl": [
           {
            "marker": {
             "colorbar": {
              "outlinewidth": 0,
              "ticks": ""
             }
            },
            "type": "scattergl"
           }
          ],
          "scattermapbox": [
           {
            "marker": {
             "colorbar": {
              "outlinewidth": 0,
              "ticks": ""
             }
            },
            "type": "scattermapbox"
           }
          ],
          "scatterpolar": [
           {
            "marker": {
             "colorbar": {
              "outlinewidth": 0,
              "ticks": ""
             }
            },
            "type": "scatterpolar"
           }
          ],
          "scatterpolargl": [
           {
            "marker": {
             "colorbar": {
              "outlinewidth": 0,
              "ticks": ""
             }
            },
            "type": "scatterpolargl"
           }
          ],
          "scatterternary": [
           {
            "marker": {
             "colorbar": {
              "outlinewidth": 0,
              "ticks": ""
             }
            },
            "type": "scatterternary"
           }
          ],
          "surface": [
           {
            "colorbar": {
             "outlinewidth": 0,
             "ticks": ""
            },
            "colorscale": [
             [
              0,
              "#0d0887"
             ],
             [
              0.1111111111111111,
              "#46039f"
             ],
             [
              0.2222222222222222,
              "#7201a8"
             ],
             [
              0.3333333333333333,
              "#9c179e"
             ],
             [
              0.4444444444444444,
              "#bd3786"
             ],
             [
              0.5555555555555556,
              "#d8576b"
             ],
             [
              0.6666666666666666,
              "#ed7953"
             ],
             [
              0.7777777777777778,
              "#fb9f3a"
             ],
             [
              0.8888888888888888,
              "#fdca26"
             ],
             [
              1,
              "#f0f921"
             ]
            ],
            "type": "surface"
           }
          ],
          "table": [
           {
            "cells": {
             "fill": {
              "color": "#EBF0F8"
             },
             "line": {
              "color": "white"
             }
            },
            "header": {
             "fill": {
              "color": "#C8D4E3"
             },
             "line": {
              "color": "white"
             }
            },
            "type": "table"
           }
          ]
         },
         "layout": {
          "annotationdefaults": {
           "arrowcolor": "#2a3f5f",
           "arrowhead": 0,
           "arrowwidth": 1
          },
          "autotypenumbers": "strict",
          "coloraxis": {
           "colorbar": {
            "outlinewidth": 0,
            "ticks": ""
           }
          },
          "colorscale": {
           "diverging": [
            [
             0,
             "#8e0152"
            ],
            [
             0.1,
             "#c51b7d"
            ],
            [
             0.2,
             "#de77ae"
            ],
            [
             0.3,
             "#f1b6da"
            ],
            [
             0.4,
             "#fde0ef"
            ],
            [
             0.5,
             "#f7f7f7"
            ],
            [
             0.6,
             "#e6f5d0"
            ],
            [
             0.7,
             "#b8e186"
            ],
            [
             0.8,
             "#7fbc41"
            ],
            [
             0.9,
             "#4d9221"
            ],
            [
             1,
             "#276419"
            ]
           ],
           "sequential": [
            [
             0,
             "#0d0887"
            ],
            [
             0.1111111111111111,
             "#46039f"
            ],
            [
             0.2222222222222222,
             "#7201a8"
            ],
            [
             0.3333333333333333,
             "#9c179e"
            ],
            [
             0.4444444444444444,
             "#bd3786"
            ],
            [
             0.5555555555555556,
             "#d8576b"
            ],
            [
             0.6666666666666666,
             "#ed7953"
            ],
            [
             0.7777777777777778,
             "#fb9f3a"
            ],
            [
             0.8888888888888888,
             "#fdca26"
            ],
            [
             1,
             "#f0f921"
            ]
           ],
           "sequentialminus": [
            [
             0,
             "#0d0887"
            ],
            [
             0.1111111111111111,
             "#46039f"
            ],
            [
             0.2222222222222222,
             "#7201a8"
            ],
            [
             0.3333333333333333,
             "#9c179e"
            ],
            [
             0.4444444444444444,
             "#bd3786"
            ],
            [
             0.5555555555555556,
             "#d8576b"
            ],
            [
             0.6666666666666666,
             "#ed7953"
            ],
            [
             0.7777777777777778,
             "#fb9f3a"
            ],
            [
             0.8888888888888888,
             "#fdca26"
            ],
            [
             1,
             "#f0f921"
            ]
           ]
          },
          "colorway": [
           "#636efa",
           "#EF553B",
           "#00cc96",
           "#ab63fa",
           "#FFA15A",
           "#19d3f3",
           "#FF6692",
           "#B6E880",
           "#FF97FF",
           "#FECB52"
          ],
          "font": {
           "color": "#2a3f5f"
          },
          "geo": {
           "bgcolor": "white",
           "lakecolor": "white",
           "landcolor": "#E5ECF6",
           "showlakes": true,
           "showland": true,
           "subunitcolor": "white"
          },
          "hoverlabel": {
           "align": "left"
          },
          "hovermode": "closest",
          "mapbox": {
           "style": "light"
          },
          "paper_bgcolor": "white",
          "plot_bgcolor": "#E5ECF6",
          "polar": {
           "angularaxis": {
            "gridcolor": "white",
            "linecolor": "white",
            "ticks": ""
           },
           "bgcolor": "#E5ECF6",
           "radialaxis": {
            "gridcolor": "white",
            "linecolor": "white",
            "ticks": ""
           }
          },
          "scene": {
           "xaxis": {
            "backgroundcolor": "#E5ECF6",
            "gridcolor": "white",
            "gridwidth": 2,
            "linecolor": "white",
            "showbackground": true,
            "ticks": "",
            "zerolinecolor": "white"
           },
           "yaxis": {
            "backgroundcolor": "#E5ECF6",
            "gridcolor": "white",
            "gridwidth": 2,
            "linecolor": "white",
            "showbackground": true,
            "ticks": "",
            "zerolinecolor": "white"
           },
           "zaxis": {
            "backgroundcolor": "#E5ECF6",
            "gridcolor": "white",
            "gridwidth": 2,
            "linecolor": "white",
            "showbackground": true,
            "ticks": "",
            "zerolinecolor": "white"
           }
          },
          "shapedefaults": {
           "line": {
            "color": "#2a3f5f"
           }
          },
          "ternary": {
           "aaxis": {
            "gridcolor": "white",
            "linecolor": "white",
            "ticks": ""
           },
           "baxis": {
            "gridcolor": "white",
            "linecolor": "white",
            "ticks": ""
           },
           "bgcolor": "#E5ECF6",
           "caxis": {
            "gridcolor": "white",
            "linecolor": "white",
            "ticks": ""
           }
          },
          "title": {
           "x": 0.05
          },
          "xaxis": {
           "automargin": true,
           "gridcolor": "white",
           "linecolor": "white",
           "ticks": "",
           "title": {
            "standoff": 15
           },
           "zerolinecolor": "white",
           "zerolinewidth": 2
          },
          "yaxis": {
           "automargin": true,
           "gridcolor": "white",
           "linecolor": "white",
           "ticks": "",
           "title": {
            "standoff": 15
           },
           "zerolinecolor": "white",
           "zerolinewidth": 2
          }
         }
        },
        "title": {
         "text": "Delinquency rate across US States"
        }
       }
      }
     },
     "metadata": {},
     "output_type": "display_data"
    }
   ],
   "source": [
    "state_map = px.choropleth(geo_mean_df,locations='addr_state',title='Delinquency rate across US States',locationmode='USA-states',color='is_delinquent',scope='usa')\n",
    "state_map.show()"
   ]
  },
  {
   "cell_type": "markdown",
   "metadata": {},
   "source": [
    "Choropleth graph shows us that highest percentage of loan defaults happen in sun belt states excluding TX. Only NY is in the top defaulter list with 14.64%. Let's slice and dice this further to see if we can draw any relationship to the local economic indicators to the default rates. Before that, lets see how the loan amount varies by state and what's the top reason for loan by state."
   ]
  },
  {
   "cell_type": "markdown",
   "metadata": {},
   "source": [
    "On the same note, States ME,IA,VT,ID & DC have low delinquency rates"
   ]
  },
  {
   "cell_type": "code",
   "execution_count": 8,
   "metadata": {},
   "outputs": [
    {
     "name": "stdout",
     "output_type": "stream",
     "text": [
      "   addr_state  is_delinquent     loan_amnt   int_rate\n",
      "1          AL      15.741827  14686.235523  13.567154\n",
      "25         MS      15.483820  14750.150328  13.445814\n",
      "2          AR      15.444536  14094.558979  13.354703\n",
      "36         OK      15.219177  15014.517181  13.263297\n",
      "18         LA      15.155868  14831.564696  13.224466\n",
      "33         NV      14.640047  14397.075665  13.205397\n",
      "34         NY      14.317905  14846.158840  13.260060\n",
      "32         NM      14.233272  14874.063491  13.155975\n",
      "9          FL      14.020532  14402.247656  13.164735\n",
      "11         HI      13.957630  15894.460067  13.786782\n"
     ]
    }
   ],
   "source": [
    "top_deliq_states = geo_mean_df.nlargest(10,'is_delinquent')\n",
    "print(top_deliq_states)"
   ]
  },
  {
   "cell_type": "markdown",
   "metadata": {},
   "source": [
    "Low delinquency rates or safe lending states:"
   ]
  },
  {
   "cell_type": "code",
   "execution_count": 9,
   "metadata": {},
   "outputs": [
    {
     "name": "stdout",
     "output_type": "stream",
     "text": [
      "   addr_state  is_delinquent     loan_amnt   int_rate\n",
      "21         ME       6.453559  14740.756936  12.817557\n",
      "12         IA       7.142857   8148.214286  12.631429\n",
      "46         VT       8.426170  13815.429411  12.986204\n",
      "13         ID       8.588672  14412.354921  13.295014\n",
      "7          DC       9.447349  15815.393951  12.578114\n"
     ]
    }
   ],
   "source": [
    "low_deliq_states = geo_mean_df.nsmallest(5,'is_delinquent')\n",
    "print(low_deliq_states)"
   ]
  },
  {
   "cell_type": "markdown",
   "metadata": {},
   "source": [
    "Loan amount analysis by state:"
   ]
  },
  {
   "cell_type": "code",
   "execution_count": 10,
   "metadata": {},
   "outputs": [
    {
     "data": {
      "application/vnd.plotly.v1+json": {
       "config": {
        "plotlyServerURL": "https://plot.ly"
       },
       "data": [
        {
         "coloraxis": "coloraxis",
         "geo": "geo",
         "hovertemplate": "addr_state=%{location}<br>loan_amnt=%{z}<extra></extra>",
         "locationmode": "USA-states",
         "locations": [
          "AK",
          "AL",
          "AR",
          "AZ",
          "CA",
          "CO",
          "CT",
          "DC",
          "DE",
          "FL",
          "GA",
          "HI",
          "IA",
          "ID",
          "IL",
          "IN",
          "KS",
          "KY",
          "LA",
          "MA",
          "MD",
          "ME",
          "MI",
          "MN",
          "MO",
          "MS",
          "MT",
          "NC",
          "ND",
          "NE",
          "NH",
          "NJ",
          "NM",
          "NV",
          "NY",
          "OH",
          "OK",
          "OR",
          "PA",
          "RI",
          "SC",
          "SD",
          "TN",
          "TX",
          "UT",
          "VA",
          "VT",
          "WA",
          "WI",
          "WV",
          "WY"
         ],
         "name": "",
         "type": "choropleth",
         "z": [
          17285.394761995794,
          14686.235522650637,
          14094.558978563899,
          14522.307399073954,
          15287.68078389231,
          15103.339870908827,
          15301.298029900796,
          15815.393950709486,
          14935.115360792815,
          14402.247655733961,
          15321.45701924632,
          15894.460067491564,
          8148.214285714285,
          14412.354921077065,
          15470.061860419202,
          14681.505397840863,
          14855.713276466586,
          14326.203910997396,
          14831.564695834466,
          15675.628089757454,
          15865.862464820028,
          14740.756936067552,
          14321.015824400205,
          14612.639496925374,
          14524.405553708015,
          14750.150328348762,
          13997.590887442451,
          14832.39438864977,
          15489.522417153996,
          14188.700601099885,
          14940.719798958895,
          15832.747618245681,
          14874.063490739196,
          14397.07566524788,
          14846.158839845699,
          14336.673121971997,
          15014.51718138321,
          14165.025756840494,
          14712.797800855224,
          14288.865567216391,
          14944.18098060922,
          14216.393712903935,
          14720.912126934025,
          15730.450666809778,
          15178.98519309011,
          16091.366315087207,
          13815.429410573222,
          15333.793030174245,
          14451.452622418583,
          15082.600886121423,
          15617.802232518956
         ]
        }
       ],
       "layout": {
        "coloraxis": {
         "colorbar": {
          "title": {
           "text": "loan_amnt"
          }
         },
         "colorscale": [
          [
           0,
           "#0d0887"
          ],
          [
           0.1111111111111111,
           "#46039f"
          ],
          [
           0.2222222222222222,
           "#7201a8"
          ],
          [
           0.3333333333333333,
           "#9c179e"
          ],
          [
           0.4444444444444444,
           "#bd3786"
          ],
          [
           0.5555555555555556,
           "#d8576b"
          ],
          [
           0.6666666666666666,
           "#ed7953"
          ],
          [
           0.7777777777777778,
           "#fb9f3a"
          ],
          [
           0.8888888888888888,
           "#fdca26"
          ],
          [
           1,
           "#f0f921"
          ]
         ]
        },
        "geo": {
         "center": {},
         "domain": {
          "x": [
           0,
           1
          ],
          "y": [
           0,
           1
          ]
         },
         "scope": "usa"
        },
        "legend": {
         "tracegroupgap": 0
        },
        "template": {
         "data": {
          "bar": [
           {
            "error_x": {
             "color": "#2a3f5f"
            },
            "error_y": {
             "color": "#2a3f5f"
            },
            "marker": {
             "line": {
              "color": "#E5ECF6",
              "width": 0.5
             },
             "pattern": {
              "fillmode": "overlay",
              "size": 10,
              "solidity": 0.2
             }
            },
            "type": "bar"
           }
          ],
          "barpolar": [
           {
            "marker": {
             "line": {
              "color": "#E5ECF6",
              "width": 0.5
             },
             "pattern": {
              "fillmode": "overlay",
              "size": 10,
              "solidity": 0.2
             }
            },
            "type": "barpolar"
           }
          ],
          "carpet": [
           {
            "aaxis": {
             "endlinecolor": "#2a3f5f",
             "gridcolor": "white",
             "linecolor": "white",
             "minorgridcolor": "white",
             "startlinecolor": "#2a3f5f"
            },
            "baxis": {
             "endlinecolor": "#2a3f5f",
             "gridcolor": "white",
             "linecolor": "white",
             "minorgridcolor": "white",
             "startlinecolor": "#2a3f5f"
            },
            "type": "carpet"
           }
          ],
          "choropleth": [
           {
            "colorbar": {
             "outlinewidth": 0,
             "ticks": ""
            },
            "type": "choropleth"
           }
          ],
          "contour": [
           {
            "colorbar": {
             "outlinewidth": 0,
             "ticks": ""
            },
            "colorscale": [
             [
              0,
              "#0d0887"
             ],
             [
              0.1111111111111111,
              "#46039f"
             ],
             [
              0.2222222222222222,
              "#7201a8"
             ],
             [
              0.3333333333333333,
              "#9c179e"
             ],
             [
              0.4444444444444444,
              "#bd3786"
             ],
             [
              0.5555555555555556,
              "#d8576b"
             ],
             [
              0.6666666666666666,
              "#ed7953"
             ],
             [
              0.7777777777777778,
              "#fb9f3a"
             ],
             [
              0.8888888888888888,
              "#fdca26"
             ],
             [
              1,
              "#f0f921"
             ]
            ],
            "type": "contour"
           }
          ],
          "contourcarpet": [
           {
            "colorbar": {
             "outlinewidth": 0,
             "ticks": ""
            },
            "type": "contourcarpet"
           }
          ],
          "heatmap": [
           {
            "colorbar": {
             "outlinewidth": 0,
             "ticks": ""
            },
            "colorscale": [
             [
              0,
              "#0d0887"
             ],
             [
              0.1111111111111111,
              "#46039f"
             ],
             [
              0.2222222222222222,
              "#7201a8"
             ],
             [
              0.3333333333333333,
              "#9c179e"
             ],
             [
              0.4444444444444444,
              "#bd3786"
             ],
             [
              0.5555555555555556,
              "#d8576b"
             ],
             [
              0.6666666666666666,
              "#ed7953"
             ],
             [
              0.7777777777777778,
              "#fb9f3a"
             ],
             [
              0.8888888888888888,
              "#fdca26"
             ],
             [
              1,
              "#f0f921"
             ]
            ],
            "type": "heatmap"
           }
          ],
          "heatmapgl": [
           {
            "colorbar": {
             "outlinewidth": 0,
             "ticks": ""
            },
            "colorscale": [
             [
              0,
              "#0d0887"
             ],
             [
              0.1111111111111111,
              "#46039f"
             ],
             [
              0.2222222222222222,
              "#7201a8"
             ],
             [
              0.3333333333333333,
              "#9c179e"
             ],
             [
              0.4444444444444444,
              "#bd3786"
             ],
             [
              0.5555555555555556,
              "#d8576b"
             ],
             [
              0.6666666666666666,
              "#ed7953"
             ],
             [
              0.7777777777777778,
              "#fb9f3a"
             ],
             [
              0.8888888888888888,
              "#fdca26"
             ],
             [
              1,
              "#f0f921"
             ]
            ],
            "type": "heatmapgl"
           }
          ],
          "histogram": [
           {
            "marker": {
             "pattern": {
              "fillmode": "overlay",
              "size": 10,
              "solidity": 0.2
             }
            },
            "type": "histogram"
           }
          ],
          "histogram2d": [
           {
            "colorbar": {
             "outlinewidth": 0,
             "ticks": ""
            },
            "colorscale": [
             [
              0,
              "#0d0887"
             ],
             [
              0.1111111111111111,
              "#46039f"
             ],
             [
              0.2222222222222222,
              "#7201a8"
             ],
             [
              0.3333333333333333,
              "#9c179e"
             ],
             [
              0.4444444444444444,
              "#bd3786"
             ],
             [
              0.5555555555555556,
              "#d8576b"
             ],
             [
              0.6666666666666666,
              "#ed7953"
             ],
             [
              0.7777777777777778,
              "#fb9f3a"
             ],
             [
              0.8888888888888888,
              "#fdca26"
             ],
             [
              1,
              "#f0f921"
             ]
            ],
            "type": "histogram2d"
           }
          ],
          "histogram2dcontour": [
           {
            "colorbar": {
             "outlinewidth": 0,
             "ticks": ""
            },
            "colorscale": [
             [
              0,
              "#0d0887"
             ],
             [
              0.1111111111111111,
              "#46039f"
             ],
             [
              0.2222222222222222,
              "#7201a8"
             ],
             [
              0.3333333333333333,
              "#9c179e"
             ],
             [
              0.4444444444444444,
              "#bd3786"
             ],
             [
              0.5555555555555556,
              "#d8576b"
             ],
             [
              0.6666666666666666,
              "#ed7953"
             ],
             [
              0.7777777777777778,
              "#fb9f3a"
             ],
             [
              0.8888888888888888,
              "#fdca26"
             ],
             [
              1,
              "#f0f921"
             ]
            ],
            "type": "histogram2dcontour"
           }
          ],
          "mesh3d": [
           {
            "colorbar": {
             "outlinewidth": 0,
             "ticks": ""
            },
            "type": "mesh3d"
           }
          ],
          "parcoords": [
           {
            "line": {
             "colorbar": {
              "outlinewidth": 0,
              "ticks": ""
             }
            },
            "type": "parcoords"
           }
          ],
          "pie": [
           {
            "automargin": true,
            "type": "pie"
           }
          ],
          "scatter": [
           {
            "fillpattern": {
             "fillmode": "overlay",
             "size": 10,
             "solidity": 0.2
            },
            "type": "scatter"
           }
          ],
          "scatter3d": [
           {
            "line": {
             "colorbar": {
              "outlinewidth": 0,
              "ticks": ""
             }
            },
            "marker": {
             "colorbar": {
              "outlinewidth": 0,
              "ticks": ""
             }
            },
            "type": "scatter3d"
           }
          ],
          "scattercarpet": [
           {
            "marker": {
             "colorbar": {
              "outlinewidth": 0,
              "ticks": ""
             }
            },
            "type": "scattercarpet"
           }
          ],
          "scattergeo": [
           {
            "marker": {
             "colorbar": {
              "outlinewidth": 0,
              "ticks": ""
             }
            },
            "type": "scattergeo"
           }
          ],
          "scattergl": [
           {
            "marker": {
             "colorbar": {
              "outlinewidth": 0,
              "ticks": ""
             }
            },
            "type": "scattergl"
           }
          ],
          "scattermapbox": [
           {
            "marker": {
             "colorbar": {
              "outlinewidth": 0,
              "ticks": ""
             }
            },
            "type": "scattermapbox"
           }
          ],
          "scatterpolar": [
           {
            "marker": {
             "colorbar": {
              "outlinewidth": 0,
              "ticks": ""
             }
            },
            "type": "scatterpolar"
           }
          ],
          "scatterpolargl": [
           {
            "marker": {
             "colorbar": {
              "outlinewidth": 0,
              "ticks": ""
             }
            },
            "type": "scatterpolargl"
           }
          ],
          "scatterternary": [
           {
            "marker": {
             "colorbar": {
              "outlinewidth": 0,
              "ticks": ""
             }
            },
            "type": "scatterternary"
           }
          ],
          "surface": [
           {
            "colorbar": {
             "outlinewidth": 0,
             "ticks": ""
            },
            "colorscale": [
             [
              0,
              "#0d0887"
             ],
             [
              0.1111111111111111,
              "#46039f"
             ],
             [
              0.2222222222222222,
              "#7201a8"
             ],
             [
              0.3333333333333333,
              "#9c179e"
             ],
             [
              0.4444444444444444,
              "#bd3786"
             ],
             [
              0.5555555555555556,
              "#d8576b"
             ],
             [
              0.6666666666666666,
              "#ed7953"
             ],
             [
              0.7777777777777778,
              "#fb9f3a"
             ],
             [
              0.8888888888888888,
              "#fdca26"
             ],
             [
              1,
              "#f0f921"
             ]
            ],
            "type": "surface"
           }
          ],
          "table": [
           {
            "cells": {
             "fill": {
              "color": "#EBF0F8"
             },
             "line": {
              "color": "white"
             }
            },
            "header": {
             "fill": {
              "color": "#C8D4E3"
             },
             "line": {
              "color": "white"
             }
            },
            "type": "table"
           }
          ]
         },
         "layout": {
          "annotationdefaults": {
           "arrowcolor": "#2a3f5f",
           "arrowhead": 0,
           "arrowwidth": 1
          },
          "autotypenumbers": "strict",
          "coloraxis": {
           "colorbar": {
            "outlinewidth": 0,
            "ticks": ""
           }
          },
          "colorscale": {
           "diverging": [
            [
             0,
             "#8e0152"
            ],
            [
             0.1,
             "#c51b7d"
            ],
            [
             0.2,
             "#de77ae"
            ],
            [
             0.3,
             "#f1b6da"
            ],
            [
             0.4,
             "#fde0ef"
            ],
            [
             0.5,
             "#f7f7f7"
            ],
            [
             0.6,
             "#e6f5d0"
            ],
            [
             0.7,
             "#b8e186"
            ],
            [
             0.8,
             "#7fbc41"
            ],
            [
             0.9,
             "#4d9221"
            ],
            [
             1,
             "#276419"
            ]
           ],
           "sequential": [
            [
             0,
             "#0d0887"
            ],
            [
             0.1111111111111111,
             "#46039f"
            ],
            [
             0.2222222222222222,
             "#7201a8"
            ],
            [
             0.3333333333333333,
             "#9c179e"
            ],
            [
             0.4444444444444444,
             "#bd3786"
            ],
            [
             0.5555555555555556,
             "#d8576b"
            ],
            [
             0.6666666666666666,
             "#ed7953"
            ],
            [
             0.7777777777777778,
             "#fb9f3a"
            ],
            [
             0.8888888888888888,
             "#fdca26"
            ],
            [
             1,
             "#f0f921"
            ]
           ],
           "sequentialminus": [
            [
             0,
             "#0d0887"
            ],
            [
             0.1111111111111111,
             "#46039f"
            ],
            [
             0.2222222222222222,
             "#7201a8"
            ],
            [
             0.3333333333333333,
             "#9c179e"
            ],
            [
             0.4444444444444444,
             "#bd3786"
            ],
            [
             0.5555555555555556,
             "#d8576b"
            ],
            [
             0.6666666666666666,
             "#ed7953"
            ],
            [
             0.7777777777777778,
             "#fb9f3a"
            ],
            [
             0.8888888888888888,
             "#fdca26"
            ],
            [
             1,
             "#f0f921"
            ]
           ]
          },
          "colorway": [
           "#636efa",
           "#EF553B",
           "#00cc96",
           "#ab63fa",
           "#FFA15A",
           "#19d3f3",
           "#FF6692",
           "#B6E880",
           "#FF97FF",
           "#FECB52"
          ],
          "font": {
           "color": "#2a3f5f"
          },
          "geo": {
           "bgcolor": "white",
           "lakecolor": "white",
           "landcolor": "#E5ECF6",
           "showlakes": true,
           "showland": true,
           "subunitcolor": "white"
          },
          "hoverlabel": {
           "align": "left"
          },
          "hovermode": "closest",
          "mapbox": {
           "style": "light"
          },
          "paper_bgcolor": "white",
          "plot_bgcolor": "#E5ECF6",
          "polar": {
           "angularaxis": {
            "gridcolor": "white",
            "linecolor": "white",
            "ticks": ""
           },
           "bgcolor": "#E5ECF6",
           "radialaxis": {
            "gridcolor": "white",
            "linecolor": "white",
            "ticks": ""
           }
          },
          "scene": {
           "xaxis": {
            "backgroundcolor": "#E5ECF6",
            "gridcolor": "white",
            "gridwidth": 2,
            "linecolor": "white",
            "showbackground": true,
            "ticks": "",
            "zerolinecolor": "white"
           },
           "yaxis": {
            "backgroundcolor": "#E5ECF6",
            "gridcolor": "white",
            "gridwidth": 2,
            "linecolor": "white",
            "showbackground": true,
            "ticks": "",
            "zerolinecolor": "white"
           },
           "zaxis": {
            "backgroundcolor": "#E5ECF6",
            "gridcolor": "white",
            "gridwidth": 2,
            "linecolor": "white",
            "showbackground": true,
            "ticks": "",
            "zerolinecolor": "white"
           }
          },
          "shapedefaults": {
           "line": {
            "color": "#2a3f5f"
           }
          },
          "ternary": {
           "aaxis": {
            "gridcolor": "white",
            "linecolor": "white",
            "ticks": ""
           },
           "baxis": {
            "gridcolor": "white",
            "linecolor": "white",
            "ticks": ""
           },
           "bgcolor": "#E5ECF6",
           "caxis": {
            "gridcolor": "white",
            "linecolor": "white",
            "ticks": ""
           }
          },
          "title": {
           "x": 0.05
          },
          "xaxis": {
           "automargin": true,
           "gridcolor": "white",
           "linecolor": "white",
           "ticks": "",
           "title": {
            "standoff": 15
           },
           "zerolinecolor": "white",
           "zerolinewidth": 2
          },
          "yaxis": {
           "automargin": true,
           "gridcolor": "white",
           "linecolor": "white",
           "ticks": "",
           "title": {
            "standoff": 15
           },
           "zerolinecolor": "white",
           "zerolinewidth": 2
          }
         }
        },
        "title": {
         "text": "Loan amount distribution across US States"
        }
       }
      }
     },
     "metadata": {},
     "output_type": "display_data"
    }
   ],
   "source": [
    "state_map_amnt = px.choropleth(geo_mean_df,locations='addr_state',title='Loan amount distribution across US States',locationmode='USA-states',color='loan_amnt',scope='usa')\n",
    "state_map_amnt.show()"
   ]
  },
  {
   "cell_type": "markdown",
   "metadata": {},
   "source": [
    "States with highest and lowest average loan amounts"
   ]
  },
  {
   "cell_type": "code",
   "execution_count": 11,
   "metadata": {},
   "outputs": [
    {
     "name": "stdout",
     "output_type": "stream",
     "text": [
      "lowest loan amounts\n",
      "   addr_state  is_delinquent     loan_amnt   int_rate\n",
      "12         IA       7.142857   8148.214286  12.631429\n",
      "46         VT       8.426170  13815.429411  12.986204\n",
      "26         MT      11.081124  13997.590887  12.956177\n",
      "2          AR      15.444536  14094.558979  13.354703\n",
      "37         OR       9.671880  14165.025757  12.954578\n"
     ]
    }
   ],
   "source": [
    "low_amnt_states = geo_mean_df.nsmallest(5,'loan_amnt')\n",
    "print('lowest loan amounts')\n",
    "print(low_amnt_states)"
   ]
  },
  {
   "cell_type": "code",
   "execution_count": 12,
   "metadata": {},
   "outputs": [
    {
     "name": "stdout",
     "output_type": "stream",
     "text": [
      "highest loan amounts\n",
      "   addr_state  is_delinquent     loan_amnt   int_rate\n",
      "0          AK      13.171478  17285.394762  13.326289\n",
      "45         VA      13.222353  16091.366315  13.113697\n",
      "11         HI      13.957630  15894.460067  13.786782\n",
      "20         MD      13.696119  15865.862465  13.236114\n",
      "31         NJ      13.443680  15832.747618  12.989854\n",
      "7          DC       9.447349  15815.393951  12.578114\n",
      "43         TX      12.907398  15730.450667  12.999444\n",
      "19         MA      12.472965  15675.628090  12.676827\n",
      "50         WY      11.183656  15617.802233  13.210143\n",
      "28         ND      10.554163  15489.522417  13.245795\n"
     ]
    }
   ],
   "source": [
    "high_amnt_states = geo_mean_df.nlargest(10,'loan_amnt')\n",
    "print('highest loan amounts')\n",
    "print(high_amnt_states)"
   ]
  },
  {
   "cell_type": "markdown",
   "metadata": {},
   "source": [
    "IA is a standout here, we have low delinquency rates and low average loan amount of 8K, As a lender, you can say that it's safe to fund a loan within 8K and be confident that 90% of the time it will be repaid without default. VT closely follows IA but the loan amount average is not low like IA, it's impresssive to have low delinquency although the loan amount average is not so low. \n",
    "DC is another standout region, which is in top list of low delinquency rates and also making it to the top of the loan amount too. It's very safe to fund a loan originating out of DC than TX or NJ or HI."
   ]
  },
  {
   "cell_type": "markdown",
   "metadata": {},
   "source": [
    "Interest rate variation by state:"
   ]
  },
  {
   "cell_type": "code",
   "execution_count": 13,
   "metadata": {},
   "outputs": [
    {
     "data": {
      "application/vnd.plotly.v1+json": {
       "config": {
        "plotlyServerURL": "https://plot.ly"
       },
       "data": [
        {
         "coloraxis": "coloraxis",
         "geo": "geo",
         "hovertemplate": "addr_state=%{location}<br>int_rate=%{z}<extra></extra>",
         "locationmode": "USA-states",
         "locations": [
          "AK",
          "AL",
          "AR",
          "AZ",
          "CA",
          "CO",
          "CT",
          "DC",
          "DE",
          "FL",
          "GA",
          "HI",
          "IA",
          "ID",
          "IL",
          "IN",
          "KS",
          "KY",
          "LA",
          "MA",
          "MD",
          "ME",
          "MI",
          "MN",
          "MO",
          "MS",
          "MT",
          "NC",
          "ND",
          "NE",
          "NH",
          "NJ",
          "NM",
          "NV",
          "NY",
          "OH",
          "OK",
          "OR",
          "PA",
          "RI",
          "SC",
          "SD",
          "TN",
          "TX",
          "UT",
          "VA",
          "VT",
          "WA",
          "WI",
          "WV",
          "WY"
         ],
         "name": "",
         "type": "choropleth",
         "z": [
          13.326289428407572,
          13.567154009675999,
          13.354703057280076,
          12.96290588913476,
          12.97652828161115,
          12.887730734906503,
          13.050378091379068,
          12.578114264376401,
          13.199143697739236,
          13.164734892679222,
          13.208650331554262,
          13.786781964754404,
          12.631428571428572,
          13.295013927576601,
          12.960123611156813,
          13.180944155671066,
          12.995099691244963,
          13.186525791565769,
          13.224465623665516,
          12.676826819094702,
          13.23611390905051,
          12.817557297949337,
          13.1645940105496,
          12.97056001214667,
          13.049272253630418,
          13.4458137510879,
          12.956177170979522,
          13.188916626813327,
          13.245795043163465,
          13.179450057552115,
          12.699506372285047,
          12.989854328056586,
          13.155975304521942,
          13.205397005236245,
          13.260060143034192,
          13.137271601980514,
          13.26329708568943,
          12.954577998432192,
          13.14572544483292,
          13.033194402798602,
          13.266586794272042,
          13.21509342712684,
          13.287132147789082,
          12.999443797461561,
          13.098307210031349,
          13.113696508561807,
          12.986204172574437,
          13.157429664258395,
          12.849949124744787,
          13.116532151838104,
          13.210143218197135
         ]
        }
       ],
       "layout": {
        "coloraxis": {
         "colorbar": {
          "title": {
           "text": "int_rate"
          }
         },
         "colorscale": [
          [
           0,
           "#0d0887"
          ],
          [
           0.1111111111111111,
           "#46039f"
          ],
          [
           0.2222222222222222,
           "#7201a8"
          ],
          [
           0.3333333333333333,
           "#9c179e"
          ],
          [
           0.4444444444444444,
           "#bd3786"
          ],
          [
           0.5555555555555556,
           "#d8576b"
          ],
          [
           0.6666666666666666,
           "#ed7953"
          ],
          [
           0.7777777777777778,
           "#fb9f3a"
          ],
          [
           0.8888888888888888,
           "#fdca26"
          ],
          [
           1,
           "#f0f921"
          ]
         ]
        },
        "geo": {
         "center": {},
         "domain": {
          "x": [
           0,
           1
          ],
          "y": [
           0,
           1
          ]
         },
         "scope": "usa"
        },
        "legend": {
         "tracegroupgap": 0
        },
        "template": {
         "data": {
          "bar": [
           {
            "error_x": {
             "color": "#2a3f5f"
            },
            "error_y": {
             "color": "#2a3f5f"
            },
            "marker": {
             "line": {
              "color": "#E5ECF6",
              "width": 0.5
             },
             "pattern": {
              "fillmode": "overlay",
              "size": 10,
              "solidity": 0.2
             }
            },
            "type": "bar"
           }
          ],
          "barpolar": [
           {
            "marker": {
             "line": {
              "color": "#E5ECF6",
              "width": 0.5
             },
             "pattern": {
              "fillmode": "overlay",
              "size": 10,
              "solidity": 0.2
             }
            },
            "type": "barpolar"
           }
          ],
          "carpet": [
           {
            "aaxis": {
             "endlinecolor": "#2a3f5f",
             "gridcolor": "white",
             "linecolor": "white",
             "minorgridcolor": "white",
             "startlinecolor": "#2a3f5f"
            },
            "baxis": {
             "endlinecolor": "#2a3f5f",
             "gridcolor": "white",
             "linecolor": "white",
             "minorgridcolor": "white",
             "startlinecolor": "#2a3f5f"
            },
            "type": "carpet"
           }
          ],
          "choropleth": [
           {
            "colorbar": {
             "outlinewidth": 0,
             "ticks": ""
            },
            "type": "choropleth"
           }
          ],
          "contour": [
           {
            "colorbar": {
             "outlinewidth": 0,
             "ticks": ""
            },
            "colorscale": [
             [
              0,
              "#0d0887"
             ],
             [
              0.1111111111111111,
              "#46039f"
             ],
             [
              0.2222222222222222,
              "#7201a8"
             ],
             [
              0.3333333333333333,
              "#9c179e"
             ],
             [
              0.4444444444444444,
              "#bd3786"
             ],
             [
              0.5555555555555556,
              "#d8576b"
             ],
             [
              0.6666666666666666,
              "#ed7953"
             ],
             [
              0.7777777777777778,
              "#fb9f3a"
             ],
             [
              0.8888888888888888,
              "#fdca26"
             ],
             [
              1,
              "#f0f921"
             ]
            ],
            "type": "contour"
           }
          ],
          "contourcarpet": [
           {
            "colorbar": {
             "outlinewidth": 0,
             "ticks": ""
            },
            "type": "contourcarpet"
           }
          ],
          "heatmap": [
           {
            "colorbar": {
             "outlinewidth": 0,
             "ticks": ""
            },
            "colorscale": [
             [
              0,
              "#0d0887"
             ],
             [
              0.1111111111111111,
              "#46039f"
             ],
             [
              0.2222222222222222,
              "#7201a8"
             ],
             [
              0.3333333333333333,
              "#9c179e"
             ],
             [
              0.4444444444444444,
              "#bd3786"
             ],
             [
              0.5555555555555556,
              "#d8576b"
             ],
             [
              0.6666666666666666,
              "#ed7953"
             ],
             [
              0.7777777777777778,
              "#fb9f3a"
             ],
             [
              0.8888888888888888,
              "#fdca26"
             ],
             [
              1,
              "#f0f921"
             ]
            ],
            "type": "heatmap"
           }
          ],
          "heatmapgl": [
           {
            "colorbar": {
             "outlinewidth": 0,
             "ticks": ""
            },
            "colorscale": [
             [
              0,
              "#0d0887"
             ],
             [
              0.1111111111111111,
              "#46039f"
             ],
             [
              0.2222222222222222,
              "#7201a8"
             ],
             [
              0.3333333333333333,
              "#9c179e"
             ],
             [
              0.4444444444444444,
              "#bd3786"
             ],
             [
              0.5555555555555556,
              "#d8576b"
             ],
             [
              0.6666666666666666,
              "#ed7953"
             ],
             [
              0.7777777777777778,
              "#fb9f3a"
             ],
             [
              0.8888888888888888,
              "#fdca26"
             ],
             [
              1,
              "#f0f921"
             ]
            ],
            "type": "heatmapgl"
           }
          ],
          "histogram": [
           {
            "marker": {
             "pattern": {
              "fillmode": "overlay",
              "size": 10,
              "solidity": 0.2
             }
            },
            "type": "histogram"
           }
          ],
          "histogram2d": [
           {
            "colorbar": {
             "outlinewidth": 0,
             "ticks": ""
            },
            "colorscale": [
             [
              0,
              "#0d0887"
             ],
             [
              0.1111111111111111,
              "#46039f"
             ],
             [
              0.2222222222222222,
              "#7201a8"
             ],
             [
              0.3333333333333333,
              "#9c179e"
             ],
             [
              0.4444444444444444,
              "#bd3786"
             ],
             [
              0.5555555555555556,
              "#d8576b"
             ],
             [
              0.6666666666666666,
              "#ed7953"
             ],
             [
              0.7777777777777778,
              "#fb9f3a"
             ],
             [
              0.8888888888888888,
              "#fdca26"
             ],
             [
              1,
              "#f0f921"
             ]
            ],
            "type": "histogram2d"
           }
          ],
          "histogram2dcontour": [
           {
            "colorbar": {
             "outlinewidth": 0,
             "ticks": ""
            },
            "colorscale": [
             [
              0,
              "#0d0887"
             ],
             [
              0.1111111111111111,
              "#46039f"
             ],
             [
              0.2222222222222222,
              "#7201a8"
             ],
             [
              0.3333333333333333,
              "#9c179e"
             ],
             [
              0.4444444444444444,
              "#bd3786"
             ],
             [
              0.5555555555555556,
              "#d8576b"
             ],
             [
              0.6666666666666666,
              "#ed7953"
             ],
             [
              0.7777777777777778,
              "#fb9f3a"
             ],
             [
              0.8888888888888888,
              "#fdca26"
             ],
             [
              1,
              "#f0f921"
             ]
            ],
            "type": "histogram2dcontour"
           }
          ],
          "mesh3d": [
           {
            "colorbar": {
             "outlinewidth": 0,
             "ticks": ""
            },
            "type": "mesh3d"
           }
          ],
          "parcoords": [
           {
            "line": {
             "colorbar": {
              "outlinewidth": 0,
              "ticks": ""
             }
            },
            "type": "parcoords"
           }
          ],
          "pie": [
           {
            "automargin": true,
            "type": "pie"
           }
          ],
          "scatter": [
           {
            "fillpattern": {
             "fillmode": "overlay",
             "size": 10,
             "solidity": 0.2
            },
            "type": "scatter"
           }
          ],
          "scatter3d": [
           {
            "line": {
             "colorbar": {
              "outlinewidth": 0,
              "ticks": ""
             }
            },
            "marker": {
             "colorbar": {
              "outlinewidth": 0,
              "ticks": ""
             }
            },
            "type": "scatter3d"
           }
          ],
          "scattercarpet": [
           {
            "marker": {
             "colorbar": {
              "outlinewidth": 0,
              "ticks": ""
             }
            },
            "type": "scattercarpet"
           }
          ],
          "scattergeo": [
           {
            "marker": {
             "colorbar": {
              "outlinewidth": 0,
              "ticks": ""
             }
            },
            "type": "scattergeo"
           }
          ],
          "scattergl": [
           {
            "marker": {
             "colorbar": {
              "outlinewidth": 0,
              "ticks": ""
             }
            },
            "type": "scattergl"
           }
          ],
          "scattermapbox": [
           {
            "marker": {
             "colorbar": {
              "outlinewidth": 0,
              "ticks": ""
             }
            },
            "type": "scattermapbox"
           }
          ],
          "scatterpolar": [
           {
            "marker": {
             "colorbar": {
              "outlinewidth": 0,
              "ticks": ""
             }
            },
            "type": "scatterpolar"
           }
          ],
          "scatterpolargl": [
           {
            "marker": {
             "colorbar": {
              "outlinewidth": 0,
              "ticks": ""
             }
            },
            "type": "scatterpolargl"
           }
          ],
          "scatterternary": [
           {
            "marker": {
             "colorbar": {
              "outlinewidth": 0,
              "ticks": ""
             }
            },
            "type": "scatterternary"
           }
          ],
          "surface": [
           {
            "colorbar": {
             "outlinewidth": 0,
             "ticks": ""
            },
            "colorscale": [
             [
              0,
              "#0d0887"
             ],
             [
              0.1111111111111111,
              "#46039f"
             ],
             [
              0.2222222222222222,
              "#7201a8"
             ],
             [
              0.3333333333333333,
              "#9c179e"
             ],
             [
              0.4444444444444444,
              "#bd3786"
             ],
             [
              0.5555555555555556,
              "#d8576b"
             ],
             [
              0.6666666666666666,
              "#ed7953"
             ],
             [
              0.7777777777777778,
              "#fb9f3a"
             ],
             [
              0.8888888888888888,
              "#fdca26"
             ],
             [
              1,
              "#f0f921"
             ]
            ],
            "type": "surface"
           }
          ],
          "table": [
           {
            "cells": {
             "fill": {
              "color": "#EBF0F8"
             },
             "line": {
              "color": "white"
             }
            },
            "header": {
             "fill": {
              "color": "#C8D4E3"
             },
             "line": {
              "color": "white"
             }
            },
            "type": "table"
           }
          ]
         },
         "layout": {
          "annotationdefaults": {
           "arrowcolor": "#2a3f5f",
           "arrowhead": 0,
           "arrowwidth": 1
          },
          "autotypenumbers": "strict",
          "coloraxis": {
           "colorbar": {
            "outlinewidth": 0,
            "ticks": ""
           }
          },
          "colorscale": {
           "diverging": [
            [
             0,
             "#8e0152"
            ],
            [
             0.1,
             "#c51b7d"
            ],
            [
             0.2,
             "#de77ae"
            ],
            [
             0.3,
             "#f1b6da"
            ],
            [
             0.4,
             "#fde0ef"
            ],
            [
             0.5,
             "#f7f7f7"
            ],
            [
             0.6,
             "#e6f5d0"
            ],
            [
             0.7,
             "#b8e186"
            ],
            [
             0.8,
             "#7fbc41"
            ],
            [
             0.9,
             "#4d9221"
            ],
            [
             1,
             "#276419"
            ]
           ],
           "sequential": [
            [
             0,
             "#0d0887"
            ],
            [
             0.1111111111111111,
             "#46039f"
            ],
            [
             0.2222222222222222,
             "#7201a8"
            ],
            [
             0.3333333333333333,
             "#9c179e"
            ],
            [
             0.4444444444444444,
             "#bd3786"
            ],
            [
             0.5555555555555556,
             "#d8576b"
            ],
            [
             0.6666666666666666,
             "#ed7953"
            ],
            [
             0.7777777777777778,
             "#fb9f3a"
            ],
            [
             0.8888888888888888,
             "#fdca26"
            ],
            [
             1,
             "#f0f921"
            ]
           ],
           "sequentialminus": [
            [
             0,
             "#0d0887"
            ],
            [
             0.1111111111111111,
             "#46039f"
            ],
            [
             0.2222222222222222,
             "#7201a8"
            ],
            [
             0.3333333333333333,
             "#9c179e"
            ],
            [
             0.4444444444444444,
             "#bd3786"
            ],
            [
             0.5555555555555556,
             "#d8576b"
            ],
            [
             0.6666666666666666,
             "#ed7953"
            ],
            [
             0.7777777777777778,
             "#fb9f3a"
            ],
            [
             0.8888888888888888,
             "#fdca26"
            ],
            [
             1,
             "#f0f921"
            ]
           ]
          },
          "colorway": [
           "#636efa",
           "#EF553B",
           "#00cc96",
           "#ab63fa",
           "#FFA15A",
           "#19d3f3",
           "#FF6692",
           "#B6E880",
           "#FF97FF",
           "#FECB52"
          ],
          "font": {
           "color": "#2a3f5f"
          },
          "geo": {
           "bgcolor": "white",
           "lakecolor": "white",
           "landcolor": "#E5ECF6",
           "showlakes": true,
           "showland": true,
           "subunitcolor": "white"
          },
          "hoverlabel": {
           "align": "left"
          },
          "hovermode": "closest",
          "mapbox": {
           "style": "light"
          },
          "paper_bgcolor": "white",
          "plot_bgcolor": "#E5ECF6",
          "polar": {
           "angularaxis": {
            "gridcolor": "white",
            "linecolor": "white",
            "ticks": ""
           },
           "bgcolor": "#E5ECF6",
           "radialaxis": {
            "gridcolor": "white",
            "linecolor": "white",
            "ticks": ""
           }
          },
          "scene": {
           "xaxis": {
            "backgroundcolor": "#E5ECF6",
            "gridcolor": "white",
            "gridwidth": 2,
            "linecolor": "white",
            "showbackground": true,
            "ticks": "",
            "zerolinecolor": "white"
           },
           "yaxis": {
            "backgroundcolor": "#E5ECF6",
            "gridcolor": "white",
            "gridwidth": 2,
            "linecolor": "white",
            "showbackground": true,
            "ticks": "",
            "zerolinecolor": "white"
           },
           "zaxis": {
            "backgroundcolor": "#E5ECF6",
            "gridcolor": "white",
            "gridwidth": 2,
            "linecolor": "white",
            "showbackground": true,
            "ticks": "",
            "zerolinecolor": "white"
           }
          },
          "shapedefaults": {
           "line": {
            "color": "#2a3f5f"
           }
          },
          "ternary": {
           "aaxis": {
            "gridcolor": "white",
            "linecolor": "white",
            "ticks": ""
           },
           "baxis": {
            "gridcolor": "white",
            "linecolor": "white",
            "ticks": ""
           },
           "bgcolor": "#E5ECF6",
           "caxis": {
            "gridcolor": "white",
            "linecolor": "white",
            "ticks": ""
           }
          },
          "title": {
           "x": 0.05
          },
          "xaxis": {
           "automargin": true,
           "gridcolor": "white",
           "linecolor": "white",
           "ticks": "",
           "title": {
            "standoff": 15
           },
           "zerolinecolor": "white",
           "zerolinewidth": 2
          },
          "yaxis": {
           "automargin": true,
           "gridcolor": "white",
           "linecolor": "white",
           "ticks": "",
           "title": {
            "standoff": 15
           },
           "zerolinecolor": "white",
           "zerolinewidth": 2
          }
         }
        },
        "title": {
         "text": "Interest rate distribution across US States"
        }
       }
      }
     },
     "metadata": {},
     "output_type": "display_data"
    }
   ],
   "source": [
    "state_map_int = px.choropleth(geo_mean_df,locations='addr_state',title='Interest rate distribution across US States',locationmode='USA-states',color='int_rate',scope='usa')\n",
    "state_map_int.show()"
   ]
  },
  {
   "cell_type": "markdown",
   "metadata": {},
   "source": [
    "Average interest rate is stable across US states with low being 12.6 and high being 13.8\n",
    "Interest rates in DC, IA, MA & NH are in the lower end of the spectrum whereas it's in the higher end for HI, AL, MS & AR"
   ]
  },
  {
   "cell_type": "code",
   "execution_count": 14,
   "metadata": {},
   "outputs": [
    {
     "name": "stdout",
     "output_type": "stream",
     "text": [
      "lowest int rates\n",
      "   addr_state  is_delinquent     loan_amnt   int_rate\n",
      "7          DC       9.447349  15815.393951  12.578114\n",
      "12         IA       7.142857   8148.214286  12.631429\n",
      "19         MA      12.472965  15675.628090  12.676827\n",
      "30         NH       9.495602  14940.719799  12.699506\n",
      "21         ME       6.453559  14740.756936  12.817557\n",
      "48         WI      12.173244  14451.452622  12.849949\n",
      "5          CO      10.433140  15103.339871  12.887731\n",
      "37         OR       9.671880  14165.025757  12.954578\n",
      "26         MT      11.081124  13997.590887  12.956177\n",
      "14         IL      11.196297  15470.061860  12.960124\n"
     ]
    }
   ],
   "source": [
    "low_int_states = geo_mean_df.nsmallest(10,'int_rate')\n",
    "print('lowest int rates')\n",
    "print(low_int_states)"
   ]
  },
  {
   "cell_type": "code",
   "execution_count": 15,
   "metadata": {},
   "outputs": [
    {
     "name": "stdout",
     "output_type": "stream",
     "text": [
      "highest int rates\n",
      "   addr_state  is_delinquent     loan_amnt   int_rate\n",
      "11         HI      13.957630  15894.460067  13.786782\n",
      "1          AL      15.741827  14686.235523  13.567154\n",
      "25         MS      15.483820  14750.150328  13.445814\n",
      "2          AR      15.444536  14094.558979  13.354703\n",
      "0          AK      13.171478  17285.394762  13.326289\n",
      "13         ID       8.588672  14412.354921  13.295014\n",
      "42         TN      13.409238  14720.912127  13.287132\n",
      "40         SC      10.316752  14944.180981  13.266587\n",
      "36         OK      15.219177  15014.517181  13.263297\n",
      "34         NY      14.317905  14846.158840  13.260060\n"
     ]
    }
   ],
   "source": [
    "high_int_states = geo_mean_df.nlargest(10,'int_rate')\n",
    "print('highest int rates')\n",
    "print(high_int_states)"
   ]
  },
  {
   "cell_type": "markdown",
   "metadata": {},
   "source": [
    "Some of the high deliquent rate states are in the list for high interest rates too. There is a definite correlation between these two at the state level."
   ]
  },
  {
   "cell_type": "markdown",
   "metadata": {},
   "source": [
    "Lets delve deeper into the geographical analysis to see if any specific region within the states have any surprising lending trend such as going away from the state trend. I am going to use the 3 digit zip code data to plot the same values and see how they play out.\n"
   ]
  },
  {
   "cell_type": "code",
   "execution_count": 16,
   "metadata": {},
   "outputs": [
    {
     "data": {
      "text/html": [
       "<div>\n",
       "<style scoped>\n",
       "    .dataframe tbody tr th:only-of-type {\n",
       "        vertical-align: middle;\n",
       "    }\n",
       "\n",
       "    .dataframe tbody tr th {\n",
       "        vertical-align: top;\n",
       "    }\n",
       "\n",
       "    .dataframe thead th {\n",
       "        text-align: right;\n",
       "    }\n",
       "</style>\n",
       "<table border=\"1\" class=\"dataframe\">\n",
       "  <thead>\n",
       "    <tr style=\"text-align: right;\">\n",
       "      <th></th>\n",
       "      <th>zip_code</th>\n",
       "      <th>is_delinquent</th>\n",
       "      <th>loan_amnt</th>\n",
       "      <th>int_rate</th>\n",
       "      <th>3_dig_zip</th>\n",
       "    </tr>\n",
       "  </thead>\n",
       "  <tbody>\n",
       "    <tr>\n",
       "      <th>0</th>\n",
       "      <td>007xx</td>\n",
       "      <td>20.000000</td>\n",
       "      <td>17500.000000</td>\n",
       "      <td>15.444000</td>\n",
       "      <td>007</td>\n",
       "    </tr>\n",
       "    <tr>\n",
       "      <th>1</th>\n",
       "      <td>008xx</td>\n",
       "      <td>12.500000</td>\n",
       "      <td>12637.500000</td>\n",
       "      <td>11.050000</td>\n",
       "      <td>008</td>\n",
       "    </tr>\n",
       "    <tr>\n",
       "      <th>2</th>\n",
       "      <td>009xx</td>\n",
       "      <td>0.000000</td>\n",
       "      <td>14812.500000</td>\n",
       "      <td>16.355000</td>\n",
       "      <td>009</td>\n",
       "    </tr>\n",
       "    <tr>\n",
       "      <th>3</th>\n",
       "      <td>010xx</td>\n",
       "      <td>14.211957</td>\n",
       "      <td>14977.778533</td>\n",
       "      <td>12.606739</td>\n",
       "      <td>010</td>\n",
       "    </tr>\n",
       "    <tr>\n",
       "      <th>4</th>\n",
       "      <td>011xx</td>\n",
       "      <td>15.508885</td>\n",
       "      <td>14314.196284</td>\n",
       "      <td>13.519903</td>\n",
       "      <td>011</td>\n",
       "    </tr>\n",
       "  </tbody>\n",
       "</table>\n",
       "</div>"
      ],
      "text/plain": [
       "  zip_code  is_delinquent     loan_amnt   int_rate 3_dig_zip\n",
       "0    007xx      20.000000  17500.000000  15.444000       007\n",
       "1    008xx      12.500000  12637.500000  11.050000       008\n",
       "2    009xx       0.000000  14812.500000  16.355000       009\n",
       "3    010xx      14.211957  14977.778533  12.606739       010\n",
       "4    011xx      15.508885  14314.196284  13.519903       011"
      ]
     },
     "execution_count": 16,
     "metadata": {},
     "output_type": "execute_result"
    }
   ],
   "source": [
    "mean_cols_zip = ['is_delinquent','loan_amnt','int_rate']\n",
    "geo_mean_zip= geo_data.groupby('zip_code')[mean_cols_zip].mean()\n",
    "geo_mean_zip['is_delinquent'] = geo_mean_zip['is_delinquent']*100\n",
    "geo_mean_zip = geo_mean_zip.reset_index()\n",
    "geo_mean_zip['3_dig_zip']=geo_mean_zip['zip_code'].str[:3]\n",
    "geo_mean_zip.head()"
   ]
  },
  {
   "cell_type": "code",
   "execution_count": 17,
   "metadata": {},
   "outputs": [
    {
     "name": "stdout",
     "output_type": "stream",
     "text": [
      "Zip codes with high delinquency rates\n",
      "    zip_code  is_delinquent     loan_amnt   int_rate 3_dig_zip\n",
      "498    513xx     100.000000  12000.000000  11.440000       513\n",
      "501    516xx     100.000000  21000.000000  18.240000       516\n",
      "506    524xx     100.000000  12000.000000  14.490000       524\n",
      "546    568xx     100.000000  15000.000000  18.250000       568\n",
      "616    643xx     100.000000   9750.000000  15.800000       643\n",
      "654    682xx     100.000000   7000.000000   6.990000       682\n",
      "846    889xx     100.000000  13500.000000  13.980000       889\n",
      "894    938xx     100.000000  15000.000000  20.990000       938\n",
      "489    502xx      71.428571  14432.142857  18.571429       502\n",
      "335    345xx      66.666667  26333.333333  11.743333       345\n",
      "Zip codes with low delinquency rates\n",
      "    zip_code  is_delinquent     loan_amnt   int_rate 3_dig_zip\n",
      "2      009xx            0.0  14812.500000  16.355000       009\n",
      "48     055xx            0.0  16000.000000  13.990000       055\n",
      "85     092xx            0.0  16244.230769  13.610769       092\n",
      "86     093xx            0.0  19960.000000  15.442000       093\n",
      "88     095xx            0.0  21433.333333   9.080000       095\n",
      "193    202xx            0.0  12500.000000   6.990000       202\n",
      "259    269xx            0.0  14500.000000  13.990000       269\n",
      "330    340xx            0.0  18555.555556  14.174444       340\n",
      "338    348xx            0.0  21000.000000  12.914000       348\n",
      "365    375xx            0.0   2100.000000   9.990000       375\n"
     ]
    }
   ],
   "source": [
    "top_deliq_zip = geo_mean_zip.nlargest(10,'is_delinquent')\n",
    "print('Zip codes with high delinquency rates')\n",
    "print(top_deliq_zip)\n",
    "low_deliq_zip = geo_mean_zip.nsmallest(10,'is_delinquent')\n",
    "print('Zip codes with low delinquency rates')\n",
    "print(low_deliq_zip)"
   ]
  },
  {
   "cell_type": "markdown",
   "metadata": {},
   "source": [
    "There are some interesting insights in the data. There are some zip codes where there are 100% delinquencies and some with 0% defaults. I'm interested in seeing how many regions are with 0% here.\n"
   ]
  },
  {
   "cell_type": "code",
   "execution_count": 18,
   "metadata": {},
   "outputs": [
    {
     "data": {
      "text/plain": [
       "51"
      ]
     },
     "execution_count": 18,
     "metadata": {},
     "output_type": "execute_result"
    }
   ],
   "source": [
    "safe_zip = geo_mean_zip[geo_mean_zip['is_delinquent']==0]\n",
    "safe_zip.shape[0]"
   ]
  },
  {
   "cell_type": "markdown",
   "metadata": {},
   "source": [
    "There are 51 zip code regions which are ultra safe and I want to see on how many loans are funded from these regions"
   ]
  },
  {
   "cell_type": "code",
   "execution_count": 19,
   "metadata": {},
   "outputs": [],
   "source": [
    "safe_zip_list = list(safe_zip['zip_code'])\n",
    "safe_zip_loans = data[data['zip_code'].isin(safe_zip_list)]"
   ]
  },
  {
   "cell_type": "code",
   "execution_count": 20,
   "metadata": {},
   "outputs": [
    {
     "name": "stdout",
     "output_type": "stream",
     "text": [
      "               id  member_id  loan_amnt  funded_amnt  funded_amnt_inv  \\\n",
      "18710    67236527        NaN    24000.0      24000.0          23850.0   \n",
      "19175    65707196        NaN     5000.0       5000.0           5000.0   \n",
      "20503    67475509        NaN    20000.0      20000.0          20000.0   \n",
      "26663    66650193        NaN     7200.0       7200.0           7200.0   \n",
      "59277    65302718        NaN    24000.0      24000.0          24000.0   \n",
      "...           ...        ...        ...          ...              ...   \n",
      "2191179  94378031        NaN     1000.0       1000.0           1000.0   \n",
      "2210411  92871812        NaN     6000.0       6000.0           6000.0   \n",
      "2212411  70730879        NaN     6000.0       6000.0           6000.0   \n",
      "2240139  91546899        NaN    15000.0      15000.0          15000.0   \n",
      "2254699  89786691        NaN    16000.0      16000.0          16000.0   \n",
      "\n",
      "               term  int_rate  installment grade sub_grade  ...  \\\n",
      "18710     60 months     14.48       564.43     C        C5  ...   \n",
      "19175     36 months     16.55       177.15     D        D2  ...   \n",
      "20503     60 months     10.64       431.27     B        B4  ...   \n",
      "26663     36 months      8.38       226.89     B        B1  ...   \n",
      "59277     36 months      5.32       722.76     A        A1  ...   \n",
      "...             ...       ...          ...   ...       ...  ...   \n",
      "2191179   36 months     17.99        36.15     D        D2  ...   \n",
      "2210411   36 months     11.39       197.55     B        B3  ...   \n",
      "2212411   36 months     14.99       207.97     C        C4  ...   \n",
      "2240139   60 months     28.69       473.31     F        F1  ...   \n",
      "2254699   60 months     15.59       385.62     C        C5  ...   \n",
      "\n",
      "        hardship_payoff_balance_amount hardship_last_payment_amount  \\\n",
      "18710                              NaN                          NaN   \n",
      "19175                              NaN                          NaN   \n",
      "20503                              NaN                          NaN   \n",
      "26663                              NaN                          NaN   \n",
      "59277                              NaN                          NaN   \n",
      "...                                ...                          ...   \n",
      "2191179                            NaN                          NaN   \n",
      "2210411                            NaN                          NaN   \n",
      "2212411                            NaN                          NaN   \n",
      "2240139                            NaN                          NaN   \n",
      "2254699                            NaN                          NaN   \n",
      "\n",
      "        disbursement_method  debt_settlement_flag debt_settlement_flag_date  \\\n",
      "18710                  Cash                     N                       NaN   \n",
      "19175                  Cash                     N                       NaN   \n",
      "20503                  Cash                     N                       NaN   \n",
      "26663                  Cash                     N                       NaN   \n",
      "59277                  Cash                     N                       NaN   \n",
      "...                     ...                   ...                       ...   \n",
      "2191179                Cash                     N                       NaN   \n",
      "2210411                Cash                     N                       NaN   \n",
      "2212411                Cash                     N                       NaN   \n",
      "2240139                Cash                     N                       NaN   \n",
      "2254699                Cash                     N                       NaN   \n",
      "\n",
      "        settlement_status settlement_date settlement_amount  \\\n",
      "18710                 NaN             NaN               NaN   \n",
      "19175                 NaN             NaN               NaN   \n",
      "20503                 NaN             NaN               NaN   \n",
      "26663                 NaN             NaN               NaN   \n",
      "59277                 NaN             NaN               NaN   \n",
      "...                   ...             ...               ...   \n",
      "2191179               NaN             NaN               NaN   \n",
      "2210411               NaN             NaN               NaN   \n",
      "2212411               NaN             NaN               NaN   \n",
      "2240139               NaN             NaN               NaN   \n",
      "2254699               NaN             NaN               NaN   \n",
      "\n",
      "        settlement_percentage settlement_term  \n",
      "18710                     NaN             NaN  \n",
      "19175                     NaN             NaN  \n",
      "20503                     NaN             NaN  \n",
      "26663                     NaN             NaN  \n",
      "59277                     NaN             NaN  \n",
      "...                       ...             ...  \n",
      "2191179                   NaN             NaN  \n",
      "2210411                   NaN             NaN  \n",
      "2212411                   NaN             NaN  \n",
      "2240139                   NaN             NaN  \n",
      "2254699                   NaN             NaN  \n",
      "\n",
      "[137 rows x 151 columns]\n"
     ]
    }
   ],
   "source": [
    "print(safe_zip_loans)"
   ]
  },
  {
   "cell_type": "markdown",
   "metadata": {},
   "source": [
    "The population of ultra safe loans (137) are very low and minuscule amount compared to 2M loan population.I now want to see how many the ultra risk loans are there here based on zip codes\n"
   ]
  },
  {
   "cell_type": "code",
   "execution_count": 24,
   "metadata": {},
   "outputs": [
    {
     "name": "stdout",
     "output_type": "stream",
     "text": [
      "               id  member_id  loan_amnt  funded_amnt  funded_amnt_inv  \\\n",
      "349442   42964748        NaN    15000.0      15000.0          14975.0   \n",
      "1120390  37317665        NaN    12000.0      12000.0          12000.0   \n",
      "1148650  32169439        NaN     7000.0       7000.0           7000.0   \n",
      "1204460  25306986        NaN    15000.0      15000.0          15000.0   \n",
      "1225186  22402236        NaN    12000.0      12000.0          12000.0   \n",
      "1236459  20690051        NaN    13500.0      13500.0          13500.0   \n",
      "1274942  16511931        NaN    21000.0      21000.0          20950.0   \n",
      "1874913   3286699        NaN     9750.0       9750.0           9675.0   \n",
      "\n",
      "               term  int_rate  installment grade sub_grade  ...  \\\n",
      "349442    60 months     18.25       382.95     E        E1  ...   \n",
      "1120390   60 months     11.44       263.55     B        B4  ...   \n",
      "1148650   36 months      6.99       216.11     A        A3  ...   \n",
      "1204460   36 months     20.99       565.05     E        E4  ...   \n",
      "1225186   60 months     14.49       282.28     C        C4  ...   \n",
      "1236459   60 months     13.98       313.99     C        C3  ...   \n",
      "1274942   60 months     18.24       536.01     D        D5  ...   \n",
      "1874913   36 months     15.80       341.82     C        C3  ...   \n",
      "\n",
      "        hardship_payoff_balance_amount hardship_last_payment_amount  \\\n",
      "349442                         7872.59                       166.75   \n",
      "1120390                            NaN                          NaN   \n",
      "1148650                            NaN                          NaN   \n",
      "1204460                            NaN                          NaN   \n",
      "1225186                            NaN                          NaN   \n",
      "1236459                            NaN                          NaN   \n",
      "1274942                            NaN                          NaN   \n",
      "1874913                            NaN                          NaN   \n",
      "\n",
      "        disbursement_method  debt_settlement_flag debt_settlement_flag_date  \\\n",
      "349442                 Cash                     N                       NaN   \n",
      "1120390                Cash                     N                       NaN   \n",
      "1148650                Cash                     N                       NaN   \n",
      "1204460                Cash                     N                       NaN   \n",
      "1225186                Cash                     N                       NaN   \n",
      "1236459                Cash                     N                       NaN   \n",
      "1274942                Cash                     N                       NaN   \n",
      "1874913                Cash                     N                       NaN   \n",
      "\n",
      "        settlement_status settlement_date settlement_amount  \\\n",
      "349442                NaN             NaN               NaN   \n",
      "1120390               NaN             NaN               NaN   \n",
      "1148650               NaN             NaN               NaN   \n",
      "1204460               NaN             NaN               NaN   \n",
      "1225186               NaN             NaN               NaN   \n",
      "1236459               NaN             NaN               NaN   \n",
      "1274942               NaN             NaN               NaN   \n",
      "1874913               NaN             NaN               NaN   \n",
      "\n",
      "        settlement_percentage settlement_term  \n",
      "349442                    NaN             NaN  \n",
      "1120390                   NaN             NaN  \n",
      "1148650                   NaN             NaN  \n",
      "1204460                   NaN             NaN  \n",
      "1225186                   NaN             NaN  \n",
      "1236459                   NaN             NaN  \n",
      "1274942                   NaN             NaN  \n",
      "1874913                   NaN             NaN  \n",
      "\n",
      "[8 rows x 151 columns]\n"
     ]
    }
   ],
   "source": [
    "risky_zip = geo_mean_zip[geo_mean_zip['is_delinquent']==100]\n",
    "risky_zip_list = list(risky_zip['zip_code'])\n",
    "risky_zip_loans = data[data['zip_code'].isin(risky_zip_list)]\n",
    "print(risky_zip_loans)\n"
   ]
  },
  {
   "cell_type": "markdown",
   "metadata": {},
   "source": [
    "As expected there are only 8 loans which are disbursed for borrower in these zips. These two extremes can be ignored and see how the delinquency rates play out in other zips."
   ]
  }
 ],
 "metadata": {
  "kernelspec": {
   "display_name": "Python 3",
   "language": "python",
   "name": "python3"
  },
  "language_info": {
   "codemirror_mode": {
    "name": "ipython",
    "version": 3
   },
   "file_extension": ".py",
   "mimetype": "text/x-python",
   "name": "python",
   "nbconvert_exporter": "python",
   "pygments_lexer": "ipython3",
   "version": "3.10.4"
  }
 },
 "nbformat": 4,
 "nbformat_minor": 2
}
